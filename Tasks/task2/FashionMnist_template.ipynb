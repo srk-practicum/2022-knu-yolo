{
 "cells": [
  {
   "cell_type": "markdown",
   "id": "af4b9b8a",
   "metadata": {},
   "source": [
    "# Train NN model on the FashionMNIST data\n",
    "\n",
    "https://www.kaggle.com/zalando-research/fashionmnist\n",
    "\n",
    "Fashion-MNIST is a dataset of Zalando's article images—consisting of a training set of 60,000 examples and a test set of 10,000 examples. Each example is a 28x28 grayscale image, associated with a label from 10 classes. Zalando intends Fashion-MNIST to serve as a direct drop-in replacement for the original MNIST dataset for benchmarking machine learning algorithms. It shares the same image size and structure of training and testing splits.\n",
    "\n",
    "You may refer to this tutorial about the original Mnist:\n",
    "https://towardsdatascience.com/handwritten-digit-mnist-pytorch-977b5338e627\n",
    "\n",
    "Or any other tutorial you may find online:\n",
    "https://www.kaggle.com/zalando-research/fashionmnist/code"
   ]
  },
  {
   "cell_type": "code",
   "execution_count": null,
   "id": "a60fad90",
   "metadata": {},
   "outputs": [],
   "source": [
    "import torch\n",
    "from torch import nn\n",
    "from torch.utils.data import DataLoader\n",
    "from torchvision import datasets\n",
    "from torchvision.transforms import ToTensor, Lambda, Compose\n",
    "import matplotlib.pyplot as plt\n",
    "%matplotlib inline"
   ]
  },
  {
   "cell_type": "code",
   "execution_count": null,
   "id": "33c19eee",
   "metadata": {},
   "outputs": [],
   "source": [
    "training_data = datasets.FashionMNIST(\n",
    "    root=\"data\",\n",
    "    train=True,\n",
    "    download=True,\n",
    "    transform=ToTensor()\n",
    ")\n",
    "\n",
    "test_data = datasets.FashionMNIST(\n",
    "    root=\"data\",\n",
    "    train=False,\n",
    "    download=True,\n",
    "    transform=ToTensor()\n",
    ")"
   ]
  },
  {
   "cell_type": "code",
   "execution_count": null,
   "id": "605d1835",
   "metadata": {},
   "outputs": [],
   "source": [
    "# Lest read a random image from the dataset and draw it\n",
    "image, label = training_data[17]\n",
    "plt.imshow(image[0], \"gray\")\n",
    "plt.title(f\"Image of class: {label}\")\n",
    "plt.show()"
   ]
  },
  {
   "cell_type": "code",
   "execution_count": null,
   "id": "f490ddd3",
   "metadata": {},
   "outputs": [],
   "source": [
    "# Lets check image shape\n",
    "image.shape"
   ]
  },
  {
   "cell_type": "code",
   "execution_count": null,
   "id": "16f15225",
   "metadata": {},
   "outputs": [],
   "source": [
    "# Lets see all the classes available\n",
    "training_data.classes"
   ]
  },
  {
   "cell_type": "markdown",
   "id": "bf2a7f78",
   "metadata": {},
   "source": [
    "# Task 1:\n",
    "\n",
    "Create a DataLoader objects for train and test"
   ]
  },
  {
   "cell_type": "code",
   "execution_count": null,
   "id": "97c9881c",
   "metadata": {},
   "outputs": [],
   "source": []
  },
  {
   "cell_type": "markdown",
   "id": "0695343f",
   "metadata": {},
   "source": [
    "# Task 2:\n",
    "\n",
    "Create a Neural Network"
   ]
  },
  {
   "cell_type": "code",
   "execution_count": null,
   "id": "f9b3d73d",
   "metadata": {},
   "outputs": [],
   "source": []
  },
  {
   "cell_type": "markdown",
   "id": "e13d5117",
   "metadata": {},
   "source": [
    "# Task 3:\n",
    "\n",
    "Specify loss and optimizer"
   ]
  },
  {
   "cell_type": "code",
   "execution_count": null,
   "id": "8cd11bf9",
   "metadata": {},
   "outputs": [],
   "source": []
  },
  {
   "cell_type": "markdown",
   "id": "605caa5b",
   "metadata": {},
   "source": [
    "# Task 3:\n",
    "\n",
    "Train model using for loop"
   ]
  },
  {
   "cell_type": "code",
   "execution_count": null,
   "id": "a724b721",
   "metadata": {},
   "outputs": [],
   "source": [
    "for batch, (X, y) in enumerate(dataloader):\n",
    "    X, y = X.to(device), y.to(device)\n",
    "    \n",
    "    ...\n",
    "    \n",
    "    optimizer.zero_grad()\n",
    "    loss.backward()\n",
    "    optimizer.step()"
   ]
  },
  {
   "cell_type": "markdown",
   "id": "72d61b00",
   "metadata": {},
   "source": [
    "# Task 4:\n",
    "\n",
    "Report accuracy from train set, and test set independently"
   ]
  },
  {
   "cell_type": "code",
   "execution_count": null,
   "id": "d129cd18",
   "metadata": {},
   "outputs": [],
   "source": []
  },
  {
   "cell_type": "markdown",
   "id": "0bfcc3eb",
   "metadata": {},
   "source": [
    "# Task 5:\n",
    "\n",
    "Report confussion matrix for the test set\n",
    "\n",
    "Expected format:\n",
    "```\n",
    "array([[0., 0., 0., 0., 0., 0., 0., 0., 0., 0.],\n",
    "       [0., 0., 0., 0., 0., 0., 0., 0., 0., 0.],\n",
    "       [0., 0., 0., 0., 0., 0., 0., 0., 0., 0.],\n",
    "       [0., 0., 0., 0., 0., 0., 0., 0., 0., 0.],\n",
    "       [0., 0., 0., 0., 0., 0., 0., 0., 0., 0.],\n",
    "       [0., 0., 0., 0., 0., 0., 0., 0., 0., 0.],\n",
    "       [0., 0., 0., 0., 0., 0., 0., 0., 0., 0.],\n",
    "       [0., 0., 0., 0., 0., 0., 0., 0., 0., 0.],\n",
    "       [0., 0., 0., 0., 0., 0., 0., 0., 0., 0.],\n",
    "       [0., 0., 0., 0., 0., 0., 0., 0., 0., 0.]])\n",
    "```"
   ]
  },
  {
   "cell_type": "markdown",
   "id": "ba2a7f90",
   "metadata": {},
   "source": [
    "# Task 6 (optional):\n",
    "\n",
    "Train LogisticRegression and DecisionTree models on the same data\n",
    "Compare their performance to the NN"
   ]
  },
  {
   "cell_type": "code",
   "execution_count": null,
   "id": "f009b458",
   "metadata": {},
   "outputs": [],
   "source": []
  }
 ],
 "metadata": {
  "kernelspec": {
   "display_name": "Python 3 (ipykernel)",
   "language": "python",
   "name": "python3"
  },
  "language_info": {
   "codemirror_mode": {
    "name": "ipython",
    "version": 3
   },
   "file_extension": ".py",
   "mimetype": "text/x-python",
   "name": "python",
   "nbconvert_exporter": "python",
   "pygments_lexer": "ipython3",
   "version": "3.8.0"
  }
 },
 "nbformat": 4,
 "nbformat_minor": 5
}
