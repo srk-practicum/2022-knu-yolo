{
 "cells": [
  {
   "cell_type": "markdown",
   "metadata": {
    "id": "MMAXD2Bg3fAl"
   },
   "source": [
    "### Kaggle Competition | Titanic Machine Learning from Disaster\n",
    "\n",
    ">The sinking of the RMS Titanic is one of the most infamous shipwrecks in history.  On April 15, 1912, during her maiden voyage, the Titanic sank after colliding with an iceberg, killing 1502 out of 2224 passengers and crew.  This sensational tragedy shocked the international community and led to better safety regulations for ships.\n",
    "\n",
    ">One of the reasons that the shipwreck led to such loss of life was that there were not enough lifeboats for the passengers and crew.  Although there was some element of luck involved in surviving the sinking, some groups of people were more likely to survive than others, such as women, children, and the upper-class.\n",
    "\n",
    ">In this contest, we ask you to complete the analysis of what sorts of people were likely to survive.  In particular, we ask you to apply the tools of machine learning to predict which passengers survived the tragedy.\n",
    "\n",
    ">This Kaggle Getting Started Competition provides an ideal starting place for people who may not have a lot of experience in data science and machine learning.\"\n",
    "\n",
    "From the competition [homepage](http://www.kaggle.com/c/titanic-gettingStarted).\n",
    "\n",
    "\n",
    "### Goal for this Notebook:\n",
    "Make a simple analysis of the Titanic disaster in Python using a full complement of PyData utilities.\n",
    "\n",
    "#### Required Libraries:\n",
    "* [NumPy](http://www.numpy.org/)\n",
    "* [IPython](http://ipython.org/)\n",
    "* [Pandas](http://pandas.pydata.org/)\n",
    "* [SciKit-Learn](http://scikit-learn.org/stable/)\n",
    "* [SciPy](http://www.scipy.org/)\n",
    "* [Matplotlib](http://matplotlib.org/)\n",
    "\n",
    "***The competition's website is located on [Kaggle.com](http://www.kaggle.com/c/titanic-gettingStarted).***"
   ]
  },
  {
   "cell_type": "code",
   "execution_count": 20,
   "metadata": {
    "id": "fQey2NMy3fAw"
   },
   "outputs": [],
   "source": [
    "import matplotlib.pyplot as plt\n",
    "%matplotlib inline\n",
    "import numpy as np\n",
    "import pandas as pd\n",
    "import seaborn as sns\n",
    "from sklearn.preprocessing import OneHotEncoder\n",
    "from sklearn.preprocessing import StandardScaler\n",
    "from sklearn.svm import SVC\n",
    "from sklearn.linear_model import LogisticRegression\n",
    "from sklearn.ensemble import RandomForestClassifier\n",
    "from sklearn.metrics import roc_curve, roc_auc_score"
   ]
  },
  {
   "cell_type": "markdown",
   "metadata": {
    "id": "bhp18NQo3fAy"
   },
   "source": [
    "### Data Handling\n",
    "#### Read data (training set) in using pandas:"
   ]
  },
  {
   "cell_type": "code",
   "execution_count": 2,
   "metadata": {
    "id": "J5LILRd_8NO5"
   },
   "outputs": [],
   "source": [
    "df = pd.read_csv('train.csv')"
   ]
  },
  {
   "cell_type": "markdown",
   "metadata": {
    "id": "n5eT1bfh3fA0"
   },
   "source": [
    "Show an overview of our data: "
   ]
  },
  {
   "cell_type": "code",
   "execution_count": 3,
   "metadata": {
    "id": "YNTiYmrA3fA1"
   },
   "outputs": [
    {
     "data": {
      "text/html": [
       "<div>\n",
       "<style scoped>\n",
       "    .dataframe tbody tr th:only-of-type {\n",
       "        vertical-align: middle;\n",
       "    }\n",
       "\n",
       "    .dataframe tbody tr th {\n",
       "        vertical-align: top;\n",
       "    }\n",
       "\n",
       "    .dataframe thead th {\n",
       "        text-align: right;\n",
       "    }\n",
       "</style>\n",
       "<table border=\"1\" class=\"dataframe\">\n",
       "  <thead>\n",
       "    <tr style=\"text-align: right;\">\n",
       "      <th></th>\n",
       "      <th>PassengerId</th>\n",
       "      <th>Survived</th>\n",
       "      <th>Pclass</th>\n",
       "      <th>Name</th>\n",
       "      <th>Sex</th>\n",
       "      <th>Age</th>\n",
       "      <th>SibSp</th>\n",
       "      <th>Parch</th>\n",
       "      <th>Ticket</th>\n",
       "      <th>Fare</th>\n",
       "      <th>Cabin</th>\n",
       "      <th>Embarked</th>\n",
       "    </tr>\n",
       "  </thead>\n",
       "  <tbody>\n",
       "    <tr>\n",
       "      <th>0</th>\n",
       "      <td>1</td>\n",
       "      <td>0</td>\n",
       "      <td>3</td>\n",
       "      <td>Braund, Mr. Owen Harris</td>\n",
       "      <td>male</td>\n",
       "      <td>22.0</td>\n",
       "      <td>1</td>\n",
       "      <td>0</td>\n",
       "      <td>A/5 21171</td>\n",
       "      <td>7.2500</td>\n",
       "      <td>NaN</td>\n",
       "      <td>S</td>\n",
       "    </tr>\n",
       "    <tr>\n",
       "      <th>1</th>\n",
       "      <td>2</td>\n",
       "      <td>1</td>\n",
       "      <td>1</td>\n",
       "      <td>Cumings, Mrs. John Bradley (Florence Briggs Th...</td>\n",
       "      <td>female</td>\n",
       "      <td>38.0</td>\n",
       "      <td>1</td>\n",
       "      <td>0</td>\n",
       "      <td>PC 17599</td>\n",
       "      <td>71.2833</td>\n",
       "      <td>C85</td>\n",
       "      <td>C</td>\n",
       "    </tr>\n",
       "    <tr>\n",
       "      <th>2</th>\n",
       "      <td>3</td>\n",
       "      <td>1</td>\n",
       "      <td>3</td>\n",
       "      <td>Heikkinen, Miss. Laina</td>\n",
       "      <td>female</td>\n",
       "      <td>26.0</td>\n",
       "      <td>0</td>\n",
       "      <td>0</td>\n",
       "      <td>STON/O2. 3101282</td>\n",
       "      <td>7.9250</td>\n",
       "      <td>NaN</td>\n",
       "      <td>S</td>\n",
       "    </tr>\n",
       "    <tr>\n",
       "      <th>3</th>\n",
       "      <td>4</td>\n",
       "      <td>1</td>\n",
       "      <td>1</td>\n",
       "      <td>Futrelle, Mrs. Jacques Heath (Lily May Peel)</td>\n",
       "      <td>female</td>\n",
       "      <td>35.0</td>\n",
       "      <td>1</td>\n",
       "      <td>0</td>\n",
       "      <td>113803</td>\n",
       "      <td>53.1000</td>\n",
       "      <td>C123</td>\n",
       "      <td>S</td>\n",
       "    </tr>\n",
       "    <tr>\n",
       "      <th>4</th>\n",
       "      <td>5</td>\n",
       "      <td>0</td>\n",
       "      <td>3</td>\n",
       "      <td>Allen, Mr. William Henry</td>\n",
       "      <td>male</td>\n",
       "      <td>35.0</td>\n",
       "      <td>0</td>\n",
       "      <td>0</td>\n",
       "      <td>373450</td>\n",
       "      <td>8.0500</td>\n",
       "      <td>NaN</td>\n",
       "      <td>S</td>\n",
       "    </tr>\n",
       "    <tr>\n",
       "      <th>...</th>\n",
       "      <td>...</td>\n",
       "      <td>...</td>\n",
       "      <td>...</td>\n",
       "      <td>...</td>\n",
       "      <td>...</td>\n",
       "      <td>...</td>\n",
       "      <td>...</td>\n",
       "      <td>...</td>\n",
       "      <td>...</td>\n",
       "      <td>...</td>\n",
       "      <td>...</td>\n",
       "      <td>...</td>\n",
       "    </tr>\n",
       "    <tr>\n",
       "      <th>886</th>\n",
       "      <td>887</td>\n",
       "      <td>0</td>\n",
       "      <td>2</td>\n",
       "      <td>Montvila, Rev. Juozas</td>\n",
       "      <td>male</td>\n",
       "      <td>27.0</td>\n",
       "      <td>0</td>\n",
       "      <td>0</td>\n",
       "      <td>211536</td>\n",
       "      <td>13.0000</td>\n",
       "      <td>NaN</td>\n",
       "      <td>S</td>\n",
       "    </tr>\n",
       "    <tr>\n",
       "      <th>887</th>\n",
       "      <td>888</td>\n",
       "      <td>1</td>\n",
       "      <td>1</td>\n",
       "      <td>Graham, Miss. Margaret Edith</td>\n",
       "      <td>female</td>\n",
       "      <td>19.0</td>\n",
       "      <td>0</td>\n",
       "      <td>0</td>\n",
       "      <td>112053</td>\n",
       "      <td>30.0000</td>\n",
       "      <td>B42</td>\n",
       "      <td>S</td>\n",
       "    </tr>\n",
       "    <tr>\n",
       "      <th>888</th>\n",
       "      <td>889</td>\n",
       "      <td>0</td>\n",
       "      <td>3</td>\n",
       "      <td>Johnston, Miss. Catherine Helen \"Carrie\"</td>\n",
       "      <td>female</td>\n",
       "      <td>NaN</td>\n",
       "      <td>1</td>\n",
       "      <td>2</td>\n",
       "      <td>W./C. 6607</td>\n",
       "      <td>23.4500</td>\n",
       "      <td>NaN</td>\n",
       "      <td>S</td>\n",
       "    </tr>\n",
       "    <tr>\n",
       "      <th>889</th>\n",
       "      <td>890</td>\n",
       "      <td>1</td>\n",
       "      <td>1</td>\n",
       "      <td>Behr, Mr. Karl Howell</td>\n",
       "      <td>male</td>\n",
       "      <td>26.0</td>\n",
       "      <td>0</td>\n",
       "      <td>0</td>\n",
       "      <td>111369</td>\n",
       "      <td>30.0000</td>\n",
       "      <td>C148</td>\n",
       "      <td>C</td>\n",
       "    </tr>\n",
       "    <tr>\n",
       "      <th>890</th>\n",
       "      <td>891</td>\n",
       "      <td>0</td>\n",
       "      <td>3</td>\n",
       "      <td>Dooley, Mr. Patrick</td>\n",
       "      <td>male</td>\n",
       "      <td>32.0</td>\n",
       "      <td>0</td>\n",
       "      <td>0</td>\n",
       "      <td>370376</td>\n",
       "      <td>7.7500</td>\n",
       "      <td>NaN</td>\n",
       "      <td>Q</td>\n",
       "    </tr>\n",
       "  </tbody>\n",
       "</table>\n",
       "<p>891 rows × 12 columns</p>\n",
       "</div>"
      ],
      "text/plain": [
       "     PassengerId  Survived  Pclass  \\\n",
       "0              1         0       3   \n",
       "1              2         1       1   \n",
       "2              3         1       3   \n",
       "3              4         1       1   \n",
       "4              5         0       3   \n",
       "..           ...       ...     ...   \n",
       "886          887         0       2   \n",
       "887          888         1       1   \n",
       "888          889         0       3   \n",
       "889          890         1       1   \n",
       "890          891         0       3   \n",
       "\n",
       "                                                  Name     Sex   Age  SibSp  \\\n",
       "0                              Braund, Mr. Owen Harris    male  22.0      1   \n",
       "1    Cumings, Mrs. John Bradley (Florence Briggs Th...  female  38.0      1   \n",
       "2                               Heikkinen, Miss. Laina  female  26.0      0   \n",
       "3         Futrelle, Mrs. Jacques Heath (Lily May Peel)  female  35.0      1   \n",
       "4                             Allen, Mr. William Henry    male  35.0      0   \n",
       "..                                                 ...     ...   ...    ...   \n",
       "886                              Montvila, Rev. Juozas    male  27.0      0   \n",
       "887                       Graham, Miss. Margaret Edith  female  19.0      0   \n",
       "888           Johnston, Miss. Catherine Helen \"Carrie\"  female   NaN      1   \n",
       "889                              Behr, Mr. Karl Howell    male  26.0      0   \n",
       "890                                Dooley, Mr. Patrick    male  32.0      0   \n",
       "\n",
       "     Parch            Ticket     Fare Cabin Embarked  \n",
       "0        0         A/5 21171   7.2500   NaN        S  \n",
       "1        0          PC 17599  71.2833   C85        C  \n",
       "2        0  STON/O2. 3101282   7.9250   NaN        S  \n",
       "3        0            113803  53.1000  C123        S  \n",
       "4        0            373450   8.0500   NaN        S  \n",
       "..     ...               ...      ...   ...      ...  \n",
       "886      0            211536  13.0000   NaN        S  \n",
       "887      0            112053  30.0000   B42        S  \n",
       "888      2        W./C. 6607  23.4500   NaN        S  \n",
       "889      0            111369  30.0000  C148        C  \n",
       "890      0            370376   7.7500   NaN        Q  \n",
       "\n",
       "[891 rows x 12 columns]"
      ]
     },
     "execution_count": 3,
     "metadata": {},
     "output_type": "execute_result"
    }
   ],
   "source": [
    "df "
   ]
  },
  {
   "cell_type": "markdown",
   "metadata": {
    "id": "ad27EQkf3fA3"
   },
   "source": [
    "### Learn more about the data:\n",
    "\n",
    "Above is a summary of data contained in a `Pandas` `DataFrame`. Think of a `DataFrame` as a Python's super charged version of the workflow in an Excel table. As you can see the summary holds quite a bit of information. First, it lets us know we have 891 observations, or passengers, to analyze here.\n",
    "\n",
    "Next it shows us all of the columns in `DataFrame`. Each column tells us something about each of our observations, like their `name`, `sex` or `age`. These colunms  are called a features of our dataset. You can think of the meaning of the words column and feature as interchangeable for this notebook. \n",
    "\n",
    "After each feature it lets us know how many values it contains. While most of our features have complete data on every observation, like the `survived` feature here: \n",
    "\n",
    "    survived    891  non-null values \n",
    "\n",
    "some are missing information, like the `age` feature: \n",
    "\n",
    "    age         714  non-null values \n",
    "\n",
    "These missing values are represented as `NaN`s.\n",
    "\n",
    "### Take care of missing values:\n",
    "The features `ticket` and `cabin` have many missing values and so can’t add much value to our analysis. To handle this we will drop them from the dataframe to preserve the integrity of our dataset. Drop waste features.\n",
    "\n",
    "Also remove NaN values from each remaining column / feature.\n",
    "\n",
    "Now we have a clean and tidy dataset that is ready for analysis. \n",
    "\n"
   ]
  },
  {
   "cell_type": "code",
   "execution_count": 4,
   "metadata": {
    "id": "EMZbA3Aw3fA5"
   },
   "outputs": [],
   "source": [
    "df = df.drop([\"Ticket\",\"Cabin\"], axis=1)\n",
    "df = df.dropna()"
   ]
  },
  {
   "cell_type": "code",
   "execution_count": 5,
   "metadata": {
    "id": "4i8syK1K8lZf"
   },
   "outputs": [],
   "source": [
    "# Don't touch this cell\n",
    "assert \"ticket\" not in df.columns\n",
    "assert \"cabin\" not in df.columns\n",
    "assert df.isna().sum().sum() == 0"
   ]
  },
  {
   "cell_type": "markdown",
   "metadata": {
    "id": "jLG-xK5t3fA6"
   },
   "source": [
    "For a detailed look at how to use pandas for data analysis, the best resource is Wes Mckinney's [book](http://shop.oreilly.com/product/0636920023784.do). Additional interactive tutorials that cover all of the basics can be found [here](https://bitbucket.org/hrojas/learn-pandas) (they're free).  If you still need to be convinced about the power of pandas check out this wirlwhind [look](http://wesmckinney.com/blog/?p=647) at all that pandas can do. "
   ]
  },
  {
   "cell_type": "markdown",
   "metadata": {
    "id": "4p5-6okC3fA7"
   },
   "source": [
    "### Let's take a Look at our data graphically:\n",
    "\n",
    "Plot 5 graphs in this section:\n",
    "\n",
    "\n",
    "1.   Plots a bar graph of those who survived vs those who did not. \n",
    "2.   Plots a Scatterplot of Survived distribution by Age\n",
    "3.   Plots a bar graph of Class distribution\n",
    "4.   Plots kernel density estimate of the passengers age separately for all 3 classes\n",
    "5.   Plots a bar graph of passengers per boarding location\n",
    "\n"
   ]
  },
  {
   "cell_type": "code",
   "execution_count": 6,
   "metadata": {
    "id": "tMdpxz7J3fA8",
    "scrolled": true
   },
   "outputs": [
    {
     "data": {
      "image/png": "[encoded data removed]",
      "text/plain": [
       "<Figure size 432x288 with 1 Axes>"
      ]
     },
     "metadata": {
      "needs_background": "light"
     },
     "output_type": "display_data"
    },
    {
     "data": {
      "image/png": "[encoded data removed]",
      "text/plain": [
       "<Figure size 432x288 with 1 Axes>"
      ]
     },
     "metadata": {
      "needs_background": "light"
     },
     "output_type": "display_data"
    },
    {
     "data": {
      "image/png": "[encoded data removed]",
      "text/plain": [
       "<Figure size 432x288 with 1 Axes>"
      ]
     },
     "metadata": {
      "needs_background": "light"
     },
     "output_type": "display_data"
    },
    {
     "data": {
      "image/png": "[encoded data removed]",
      "text/plain": [
       "<Figure size 432x288 with 1 Axes>"
      ]
     },
     "metadata": {
      "needs_background": "light"
     },
     "output_type": "display_data"
    },
    {
     "data": {
      "image/png": "[encoded data removed]",
      "text/plain": [
       "<Figure size 432x288 with 1 Axes>"
      ]
     },
     "metadata": {
      "needs_background": "light"
     },
     "output_type": "display_data"
    }
   ],
   "source": [
    "# specifies the parameters of our graphs\n",
    "sns.set_palette(\"magma\")\n",
    "\n",
    "# Plots a bar graph of those who survived vs those who did not.\n",
    "plt.title(\"Survival Barplot\")\n",
    "sns.countplot(x= \"Survived\", data = df)\n",
    "plt.show()\n",
    "\n",
    "# Plots a Scatterplot of Survived distribution by Age  \n",
    "plt.title(\"Survival by Age\")\n",
    "sns.scatterplot(x= \"Survived\", y= \"Age\",  data = df)\n",
    "plt.show()\n",
    "\n",
    "# Plots a bar graph of Class distribution\n",
    "plt.title(\"Passenger Class\")\n",
    "sns.countplot(x=\"Pclass\",  data=df)\n",
    "plt.show()\n",
    "\n",
    "# Plots kernel density estte of the passengers age separately for all 3 classes\n",
    "plt.title(\"Age Distribution within classes\")\n",
    "sns.kdeplot(x=\"Age\", hue=\"Pclass\", data=df)\n",
    "plt.show()\n",
    "\n",
    "# Plots a bar graph of passengers per boarding location\n",
    "plt.title(\"Embarked\")\n",
    "sns.countplot(x=\"Embarked\",data=df)\n",
    "plt.show()"
   ]
  },
  {
   "cell_type": "markdown",
   "metadata": {
    "id": "nRihWNpk3fA9"
   },
   "source": [
    "### Exploratory Visualization:\n",
    "\n",
    "The point of this competition is to predict if an individual will survive based on the features in the data like:\n",
    " \n",
    " * Traveling Class (called pclass in the data)\n",
    " * Sex \n",
    " * Age\n",
    " * Fare Price\n",
    "\n",
    "Let’s see if we can gain a better understanding of who survived and died. \n",
    "\n",
    "\n",
    "First plot a bar graph of those who Survived Vs. Those who did not.\n"
   ]
  },
  {
   "cell_type": "code",
   "execution_count": 7,
   "metadata": {
    "id": "-QXHr82g3fA-"
   },
   "outputs": [
    {
     "data": {
      "image/png": "[encoded data removed]",
      "text/plain": [
       "<Figure size 432x288 with 1 Axes>"
      ]
     },
     "metadata": {
      "needs_background": "light"
     },
     "output_type": "display_data"
    }
   ],
   "source": [
    "plt.title(\"Survival Barplot\")\n",
    "sns.countplot(x= \"Survived\", data = df)\n",
    "plt.show()"
   ]
  },
  {
   "cell_type": "markdown",
   "metadata": {
    "id": "-0wome_M3fA-"
   },
   "source": [
    "### Next tease more structure out of the data,\n",
    "### Break the previous graph down by gender\n"
   ]
  },
  {
   "cell_type": "code",
   "execution_count": 8,
   "metadata": {
    "id": "35p8zc7s3fA_"
   },
   "outputs": [
    {
     "data": {
      "text/plain": [
       "<AxesSubplot:title={'center':'Passengers per boarding location'}, ylabel='Survived'>"
      ]
     },
     "execution_count": 8,
     "metadata": {},
     "output_type": "execute_result"
    },
    {
     "data": {
      "image/png": "[encoded data removed]",
      "text/plain": [
       "<Figure size 432x288 with 1 Axes>"
      ]
     },
     "metadata": {
      "needs_background": "light"
     },
     "output_type": "display_data"
    }
   ],
   "source": [
    "# create a plot of two subsets, male and female, of the survived variable.\n",
    "# After that call value_counts() so it can be easily plotted as a bar graph. \n",
    "# you can use kind='barh' argument. It is just a horizontal bar graph\n",
    "\n",
    "# Next adjust graph to display the proportions of survival by gender\n",
    "groupby = df.groupby('Sex')['Survived'].value_counts()\n",
    "gender_surv = ['female alive', 'female dead', 'male dead', 'male alive']\n",
    "plt.title(\"Passengers per boarding location\")\n",
    "sns.barplot(x= gender_surv, y=groupby, data=df)"
   ]
  },
  {
   "cell_type": "markdown",
   "metadata": {
    "id": "sBEcGFBI3fBA"
   },
   "source": [
    "Add your summaryabout recieved data for raw value counts and proportionally\n",
    "\n",
    "#### Try to go down even further:\n",
    "Can we capture more of the structure by using Pclass? Here try to bucket classes as lowest class or any of the high classes (classes 1 - 2). 3 is lowest class. Break it down by Gender and what Class they were traveling in.\n"
   ]
  },
  {
   "cell_type": "code",
   "execution_count": 9,
   "metadata": {
    "id": "r4jXC0wM3fBA"
   },
   "outputs": [
    {
     "data": {
      "text/plain": [
       "<AxesSubplot:xlabel='Pclass', ylabel='count'>"
      ]
     },
     "execution_count": 9,
     "metadata": {},
     "output_type": "execute_result"
    },
    {
     "data": {
      "image/png": "[encoded data removed]",
      "text/plain": [
       "<Figure size 432x288 with 1 Axes>"
      ]
     },
     "metadata": {
      "needs_background": "light"
     },
     "output_type": "display_data"
    }
   ],
   "source": [
    "sns.countplot(x='Pclass',hue='Sex',data=df)"
   ]
  },
  {
   "cell_type": "markdown",
   "metadata": {
    "id": "yEZPJBNqFWfq"
   },
   "source": [
    "Try to get a conclusions of the recieved data"
   ]
  },
  {
   "cell_type": "markdown",
   "metadata": {
    "id": "CjdgVG2_3fBC"
   },
   "source": [
    "## Conclusion:\n",
    "\n",
    "# -----------------\n",
    "\n",
    "# There seems to be a tendention of a higher survival rate of female gender (higher male mortality can be explained by overall higher amount of men at Titanic and of the cause that women and children were saved on escape ships more oftenly), therefore there is a direct connection between survival and gender. Also there seems to be more male in the 3-rd class, the cause of that might be that men in 3-rd class were not only vacationers, but also liner workers.\n",
    "\n",
    "# -----------------"
   ]
  },
  {
   "cell_type": "markdown",
   "metadata": {
    "id": "yuV-b-Jvt1PI"
   },
   "source": [
    "## Model train and evaluation\n",
    "\n",
    "\n",
    "For all model at the end, additionaly generate:\n",
    "Normalized Confusion matrix as:\n",
    "```\n",
    "\t\t                 Predicted\n",
    "                     Survive\tNon-Survive\n",
    "Actual    Survive        0.7       0.3\n",
    "          Non-Survive    0.2       0.8\n",
    "```\n",
    "And metrics:\n",
    "```\n",
    "          Metrics\n",
    "Recall    0.2232\n",
    "Precision 0.0597\n",
    "Accuracy  0.2100\n",
    "F1 score  0.0398\n",
    "```"
   ]
  },
  {
   "cell_type": "markdown",
   "metadata": {
    "id": "7MLXksFt3fBD"
   },
   "source": [
    "## Supervised Machine Learning\n",
    "#### Logistic Regression:\n",
    "\n",
    "\n",
    "\n",
    "Task is to predict a binary outcome. That is, it wants to know whether some will die, (represented as a 0), or survive, (represented as 1). A good place to start is to calculate the probability that an individual observation, or person, is likely to be a 0 or 1. That way we would know the chance that someone survives, and could start making somewhat informed predictions. If we did, we'd get results like this:: \n",
    "\n",
    "![pred](https://raw.github.com/agconti/kaggle-titanic/master/images/calc_prob.png) \n",
    "\n",
    "(*Y axis is the probability that someone survives, X axis is the passenger’s number from 1 to 891.*)\n",
    "\n",
    "While that information is useful it doesn’t let us know whether someone ended up alive or dead. It just lets us know the chance that they will survive or die. We still need to translate these probabilities into the binary decision we’re looking for. But how? We could arbitrarily say that our survival cutoff is anyone with a probability of survival over 50%. In fact, this tactic would actually perform pretty well for our data and would allow you to make decently accurate predictions. Graphically it would look something like this:\n",
    "\n",
    "![predwline](https://raw.github.com/agconti/kaggle-titanic/master/images/calc_prob_wline.png)\n",
    "\n",
    "What are the odds that setting that cutoff at 50% works? Maybe 20% or 80% would work better. Clearly we need a more exact way to make that cutoff. What can save the day? In steps the **Logistic Regression**. \n",
    "\n",
    "A logistic regression follows the all steps we took above but mathematically calculates the cutoff, or decision boundary (as stats nerds call it), for you. This way it can figure out the best cut off to choose, perhaps 50% or 51.84%, that most accurately represents the training data.\n",
    "\n",
    "Below, write down the process of creating a Logitist regression model with `LogisticRegression`, training it on the data, and examining its performance."
   ]
  },
  {
   "cell_type": "code",
   "execution_count": 11,
   "metadata": {
    "id": "deeYakrn3fBF"
   },
   "outputs": [
    {
     "data": {
      "text/html": [
       "<div>\n",
       "<style scoped>\n",
       "    .dataframe tbody tr th:only-of-type {\n",
       "        vertical-align: middle;\n",
       "    }\n",
       "\n",
       "    .dataframe tbody tr th {\n",
       "        vertical-align: top;\n",
       "    }\n",
       "\n",
       "    .dataframe thead th {\n",
       "        text-align: right;\n",
       "    }\n",
       "</style>\n",
       "<table border=\"1\" class=\"dataframe\">\n",
       "  <thead>\n",
       "    <tr style=\"text-align: right;\">\n",
       "      <th></th>\n",
       "      <th>Survived</th>\n",
       "      <th>Age</th>\n",
       "      <th>Pclass_1</th>\n",
       "      <th>Pclass_2</th>\n",
       "      <th>Pclass_3</th>\n",
       "      <th>Embarked_C</th>\n",
       "      <th>Embarked_Q</th>\n",
       "      <th>Embarked_S</th>\n",
       "      <th>Sex_female</th>\n",
       "      <th>Sex_male</th>\n",
       "    </tr>\n",
       "    <tr>\n",
       "      <th>PassengerId</th>\n",
       "      <th></th>\n",
       "      <th></th>\n",
       "      <th></th>\n",
       "      <th></th>\n",
       "      <th></th>\n",
       "      <th></th>\n",
       "      <th></th>\n",
       "      <th></th>\n",
       "      <th></th>\n",
       "      <th></th>\n",
       "    </tr>\n",
       "  </thead>\n",
       "  <tbody>\n",
       "    <tr>\n",
       "      <th>892</th>\n",
       "      <td>0</td>\n",
       "      <td>0.547619</td>\n",
       "      <td>0</td>\n",
       "      <td>0</td>\n",
       "      <td>1</td>\n",
       "      <td>0</td>\n",
       "      <td>1</td>\n",
       "      <td>0</td>\n",
       "      <td>0</td>\n",
       "      <td>1</td>\n",
       "    </tr>\n",
       "    <tr>\n",
       "      <th>893</th>\n",
       "      <td>1</td>\n",
       "      <td>0.746032</td>\n",
       "      <td>0</td>\n",
       "      <td>0</td>\n",
       "      <td>1</td>\n",
       "      <td>0</td>\n",
       "      <td>0</td>\n",
       "      <td>1</td>\n",
       "      <td>1</td>\n",
       "      <td>0</td>\n",
       "    </tr>\n",
       "    <tr>\n",
       "      <th>894</th>\n",
       "      <td>0</td>\n",
       "      <td>0.984127</td>\n",
       "      <td>0</td>\n",
       "      <td>1</td>\n",
       "      <td>0</td>\n",
       "      <td>0</td>\n",
       "      <td>1</td>\n",
       "      <td>0</td>\n",
       "      <td>0</td>\n",
       "      <td>1</td>\n",
       "    </tr>\n",
       "    <tr>\n",
       "      <th>895</th>\n",
       "      <td>0</td>\n",
       "      <td>0.428571</td>\n",
       "      <td>0</td>\n",
       "      <td>0</td>\n",
       "      <td>1</td>\n",
       "      <td>0</td>\n",
       "      <td>0</td>\n",
       "      <td>1</td>\n",
       "      <td>0</td>\n",
       "      <td>1</td>\n",
       "    </tr>\n",
       "    <tr>\n",
       "      <th>896</th>\n",
       "      <td>1</td>\n",
       "      <td>0.349206</td>\n",
       "      <td>0</td>\n",
       "      <td>0</td>\n",
       "      <td>1</td>\n",
       "      <td>0</td>\n",
       "      <td>0</td>\n",
       "      <td>1</td>\n",
       "      <td>1</td>\n",
       "      <td>0</td>\n",
       "    </tr>\n",
       "  </tbody>\n",
       "</table>\n",
       "</div>"
      ],
      "text/plain": [
       "             Survived       Age  Pclass_1  Pclass_2  Pclass_3  Embarked_C  \\\n",
       "PassengerId                                                                 \n",
       "892                 0  0.547619         0         0         1           0   \n",
       "893                 1  0.746032         0         0         1           0   \n",
       "894                 0  0.984127         0         1         0           0   \n",
       "895                 0  0.428571         0         0         1           0   \n",
       "896                 1  0.349206         0         0         1           0   \n",
       "\n",
       "             Embarked_Q  Embarked_S  Sex_female  Sex_male  \n",
       "PassengerId                                                \n",
       "892                   1           0           0         1  \n",
       "893                   0           1           1         0  \n",
       "894                   1           0           0         1  \n",
       "895                   0           1           0         1  \n",
       "896                   0           1           1         0  "
      ]
     },
     "execution_count": 11,
     "metadata": {},
     "output_type": "execute_result"
    }
   ],
   "source": [
    "cols = [\"Age\",\"Pclass_1\",\"Pclass_2\",\"Pclass_3\",\"Embarked_C\",\"Embarked_S\",\"Embarked_Q\",\"Sex_male\",\"Sex_female\"] \n",
    "surv_v = pd.read_csv(\"gender_submission.csv\", index_col = \"PassengerId\")\n",
    "test_val = pd.read_csv(\"test.csv\", index_col = \"PassengerId\")\n",
    "ttnc_data = pd.concat([surv_v, test_val], axis = 1)\n",
    "ttnc_data = ttnc_data.drop([\"Ticket\", \"Cabin\"], axis=1)\n",
    "ttnc_data[\"Age\"].fillna(df[\"Age\"].median(skipna=True), inplace=True)\n",
    "ttnc_data[\"Embarked\"].fillna(df['Embarked'].value_counts().idxmax(), inplace=True)\n",
    "train=pd.get_dummies(ttnc_data, columns=[\"Pclass\",\"Embarked\",\"Sex\"])\n",
    "train[\"Age\"] = train[\"Age\"].apply(lambda x: (x/63))\n",
    "train.drop('Name', axis=1, inplace=True)\n",
    "train.drop('Fare', axis=1, inplace=True)\n",
    "train.drop('SibSp', axis=1, inplace=True)\n",
    "train.drop('Parch', axis=1, inplace=True)\n",
    "\n",
    "y_test = train[\"Survived\"]\n",
    "\n",
    "x_test = train[cols]\n",
    "\n",
    "train.head()"
   ]
  },
  {
   "cell_type": "code",
   "execution_count": 13,
   "metadata": {},
   "outputs": [
    {
     "data": {
      "text/html": [
       "<div>\n",
       "<style scoped>\n",
       "    .dataframe tbody tr th:only-of-type {\n",
       "        vertical-align: middle;\n",
       "    }\n",
       "\n",
       "    .dataframe tbody tr th {\n",
       "        vertical-align: top;\n",
       "    }\n",
       "\n",
       "    .dataframe thead th {\n",
       "        text-align: right;\n",
       "    }\n",
       "</style>\n",
       "<table border=\"1\" class=\"dataframe\">\n",
       "  <thead>\n",
       "    <tr style=\"text-align: right;\">\n",
       "      <th></th>\n",
       "      <th>Survived</th>\n",
       "      <th>Age</th>\n",
       "      <th>Pclass_1</th>\n",
       "      <th>Pclass_2</th>\n",
       "      <th>Pclass_3</th>\n",
       "      <th>Embarked_C</th>\n",
       "      <th>Embarked_Q</th>\n",
       "      <th>Embarked_S</th>\n",
       "      <th>Sex_female</th>\n",
       "      <th>Sex_male</th>\n",
       "    </tr>\n",
       "  </thead>\n",
       "  <tbody>\n",
       "    <tr>\n",
       "      <th>0</th>\n",
       "      <td>0</td>\n",
       "      <td>0.349206</td>\n",
       "      <td>0</td>\n",
       "      <td>0</td>\n",
       "      <td>1</td>\n",
       "      <td>0</td>\n",
       "      <td>0</td>\n",
       "      <td>1</td>\n",
       "      <td>0</td>\n",
       "      <td>1</td>\n",
       "    </tr>\n",
       "    <tr>\n",
       "      <th>1</th>\n",
       "      <td>1</td>\n",
       "      <td>0.603175</td>\n",
       "      <td>1</td>\n",
       "      <td>0</td>\n",
       "      <td>0</td>\n",
       "      <td>1</td>\n",
       "      <td>0</td>\n",
       "      <td>0</td>\n",
       "      <td>1</td>\n",
       "      <td>0</td>\n",
       "    </tr>\n",
       "    <tr>\n",
       "      <th>2</th>\n",
       "      <td>1</td>\n",
       "      <td>0.412698</td>\n",
       "      <td>0</td>\n",
       "      <td>0</td>\n",
       "      <td>1</td>\n",
       "      <td>0</td>\n",
       "      <td>0</td>\n",
       "      <td>1</td>\n",
       "      <td>1</td>\n",
       "      <td>0</td>\n",
       "    </tr>\n",
       "    <tr>\n",
       "      <th>3</th>\n",
       "      <td>1</td>\n",
       "      <td>0.555556</td>\n",
       "      <td>1</td>\n",
       "      <td>0</td>\n",
       "      <td>0</td>\n",
       "      <td>0</td>\n",
       "      <td>0</td>\n",
       "      <td>1</td>\n",
       "      <td>1</td>\n",
       "      <td>0</td>\n",
       "    </tr>\n",
       "    <tr>\n",
       "      <th>4</th>\n",
       "      <td>0</td>\n",
       "      <td>0.555556</td>\n",
       "      <td>0</td>\n",
       "      <td>0</td>\n",
       "      <td>1</td>\n",
       "      <td>0</td>\n",
       "      <td>0</td>\n",
       "      <td>1</td>\n",
       "      <td>0</td>\n",
       "      <td>1</td>\n",
       "    </tr>\n",
       "  </tbody>\n",
       "</table>\n",
       "</div>"
      ],
      "text/plain": [
       "   Survived       Age  Pclass_1  Pclass_2  Pclass_3  Embarked_C  Embarked_Q  \\\n",
       "0         0  0.349206         0         0         1           0           0   \n",
       "1         1  0.603175         1         0         0           1           0   \n",
       "2         1  0.412698         0         0         1           0           0   \n",
       "3         1  0.555556         1         0         0           0           0   \n",
       "4         0  0.555556         0         0         1           0           0   \n",
       "\n",
       "   Embarked_S  Sex_female  Sex_male  \n",
       "0           1           0         1  \n",
       "1           0           1         0  \n",
       "2           1           1         0  \n",
       "3           1           1         0  \n",
       "4           1           0         1  "
      ]
     },
     "execution_count": 13,
     "metadata": {},
     "output_type": "execute_result"
    }
   ],
   "source": [
    "train_data = df.copy()\n",
    "train_data[\"Age\"].fillna(df[\"Age\"].median(skipna=True), inplace=True)\n",
    "train_data[\"Embarked\"].fillna(df['Embarked'].value_counts().idxmax(), inplace=True)\n",
    "training=pd.get_dummies(train_data, columns=[\"Pclass\",\"Embarked\",\"Sex\"])\n",
    "training[\"Age\"] = training[\"Age\"].apply(lambda x: (x/63))\n",
    "training.drop('PassengerId', axis=1, inplace=True)\n",
    "training.drop('Name', axis=1, inplace=True)\n",
    "training.drop('Fare', axis=1, inplace=True)\n",
    "training.drop('SibSp', axis=1, inplace=True)\n",
    "training.drop('Parch', axis=1, inplace=True)\n",
    "\n",
    "\n",
    "final_train = training\n",
    "final_train.head()"
   ]
  },
  {
   "cell_type": "code",
   "execution_count": 16,
   "metadata": {},
   "outputs": [
    {
     "name": "stdout",
     "output_type": "stream",
     "text": [
      "Feature: 0, Score: -1.79229\n",
      "Feature: 1, Score: 1.07063\n",
      "Feature: 2, Score: 0.05870\n",
      "Feature: 3, Score: -1.12943\n",
      "Feature: 4, Score: 0.41158\n",
      "Feature: 5, Score: -0.08874\n",
      "Feature: 6, Score: -0.32295\n",
      "Feature: 7, Score: -1.22089\n",
      "Feature: 8, Score: 1.22078\n"
     ]
    },
    {
     "data": {
      "image/png": "[encoded data removed]",
      "text/plain": [
       "<Figure size 432x288 with 1 Axes>"
      ]
     },
     "metadata": {
      "needs_background": "light"
     },
     "output_type": "display_data"
    },
    {
     "name": "stdout",
     "output_type": "stream",
     "text": [
      "              precision    recall  f1-score   support\n",
      "\n",
      "           0       0.92      0.93      0.93       266\n",
      "           1       0.88      0.86      0.87       152\n",
      "\n",
      "    accuracy                           0.90       418\n",
      "   macro avg       0.90      0.89      0.90       418\n",
      "weighted avg       0.90      0.90      0.90       418\n",
      "\n"
     ]
    },
    {
     "data": {
      "text/plain": [
       "0.9043062200956937"
      ]
     },
     "execution_count": 16,
     "metadata": {},
     "output_type": "execute_result"
    }
   ],
   "source": [
    "# instantiate and fit our model to the training data\n",
    "from sklearn.metrics import classification_report, confusion_matrix\n",
    "\n",
    "cols = [\"Age\",\"Pclass_1\",\"Pclass_2\",\"Pclass_3\",\"Embarked_C\",\"Embarked_S\",\"Embarked_Q\",\"Sex_male\",\"Sex_female\"] \n",
    "x_tr = final_train[cols]\n",
    "y_tr = final_train['Survived']\n",
    "\n",
    "# Build a logreg and compute the feature importances\n",
    "model = LogisticRegression()\n",
    "model.fit(x_tr, y_tr)\n",
    "importance = model.coef_[0]\n",
    "for i,v in enumerate(importance):\n",
    "    print('Feature: %0d, Score: %.5f' % (i,v))\n",
    "    \n",
    "prediction_lg = model.predict(x_test)\n",
    "\n",
    "confusion = confusion_matrix(y_test, prediction_lg)\n",
    "sns.heatmap(confusion, annot=True, fmt=\"d\", yticklabels=[1, 0], xticklabels=[1, 0], cbar=False, cmap=\"YlGnBu\")\n",
    "plt.show()\n",
    "\n",
    "print(classification_report(y_test, prediction_lg))\n",
    "\n",
    "model.score(x_test, y_test)"
   ]
  },
  {
   "cell_type": "markdown",
   "metadata": {
    "id": "5DKw49Rr3fBL"
   },
   "source": [
    "### Support Vector Machine (SVM)\n",
    "\n",
    "\n",
    "The logit model showed exactly where to draw our decision boundary or our 'survival cut off'. A linear line is okay, but can prediction be better? Perhaps a more complex decision boundary like a wave, circle, or maybe some sort of strange polygon would describe the variance observed in our sample better than a line.\n",
    "\n",
    "Below implement a SVM model based on `sklearn.svm.SVC` and examining the results after the SVM transforms an equation into three different mathematical plains. The first is linear, and is similar to our logic model. Next is an exponential, polynomial, transformation and finally a blank transformation.\n"
   ]
  },
  {
   "cell_type": "code",
   "execution_count": 17,
   "metadata": {
    "id": "2XU5FihKRakX"
   },
   "outputs": [
    {
     "data": {
      "image/png": "[encoded data removed]",
      "text/plain": [
       "<Figure size 432x288 with 1 Axes>"
      ]
     },
     "metadata": {
      "needs_background": "light"
     },
     "output_type": "display_data"
    },
    {
     "name": "stdout",
     "output_type": "stream",
     "text": [
      "              precision    recall  f1-score   support\n",
      "\n",
      "           0       0.86      1.00      0.93       266\n",
      "           1       1.00      0.72      0.84       152\n",
      "\n",
      "    accuracy                           0.90       418\n",
      "   macro avg       0.93      0.86      0.88       418\n",
      "weighted avg       0.91      0.90      0.89       418\n",
      "\n"
     ]
    },
    {
     "data": {
      "text/plain": [
       "0.8971291866028708"
      ]
     },
     "execution_count": 17,
     "metadata": {},
     "output_type": "execute_result"
    }
   ],
   "source": [
    "clf = SVC()\n",
    "clf.fit(x_tr, y_tr)\n",
    "prediction_sv = clf.predict(x_test)\n",
    "confusion = confusion_matrix(y_test, prediction_sv)\n",
    "sns.heatmap(confusion, annot=True, fmt=\"d\", yticklabels=[1, 0], xticklabels=[1, 0], cbar=False, cmap=\"YlGnBu\")\n",
    "plt.show()\n",
    "\n",
    "print(classification_report(y_test, prediction_sv))\n",
    "\n",
    "clf.score(x_test, y_test)"
   ]
  },
  {
   "cell_type": "markdown",
   "metadata": {
    "id": "BwJyqyhF3fBN"
   },
   "source": [
    "### Random Forest\n",
    "\n",
    "the Random Forest technique is a form of non-parametric modeling that does away with all those equations created above, and uses raw computing power and a clever statistical observation to tease the structure out of the data. \n",
    "\n",
    "**How do they work?** A random forest algorithm randomly generates many extremely simple models to explain the variance observed in random subsections of our data. These models are like appraisal guesses. They are all awful individually. Really awful. But once they are averaged, they can be powerful predictive tools. The averaging step is the secret sauce. While the vast majority of those models were extremely poor; they were all as bad as each other on average. So when their predictions are averaged together, the bad ones average their effect on our model out to zero. The thing that remains, *if anything*, is one or a handful of those models have stumbled upon the true structure of the data.\n",
    "\n",
    "Below implement your model of random forest with `RandomForestClassifier`, generating predictions form the resulting model, and then scoring the results."
   ]
  },
  {
   "cell_type": "code",
   "execution_count": 18,
   "metadata": {
    "id": "ekx9kVAOTOKk"
   },
   "outputs": [
    {
     "data": {
      "image/png": "[encoded data removed]",
      "text/plain": [
       "<Figure size 432x288 with 1 Axes>"
      ]
     },
     "metadata": {
      "needs_background": "light"
     },
     "output_type": "display_data"
    },
    {
     "name": "stdout",
     "output_type": "stream",
     "text": [
      "              precision    recall  f1-score   support\n",
      "\n",
      "           0       0.82      0.80      0.81       266\n",
      "           1       0.66      0.68      0.67       152\n",
      "\n",
      "    accuracy                           0.76       418\n",
      "   macro avg       0.74      0.74      0.74       418\n",
      "weighted avg       0.76      0.76      0.76       418\n",
      "\n"
     ]
    },
    {
     "data": {
      "text/plain": [
       "0.7583732057416268"
      ]
     },
     "execution_count": 18,
     "metadata": {},
     "output_type": "execute_result"
    }
   ],
   "source": [
    "clf = RandomForestClassifier()\n",
    "clf.fit(x_tr, y_tr)\n",
    "prediction_rf = clf.predict(x_test)\n",
    "\n",
    "confusion = confusion_matrix(y_test, prediction_rf)\n",
    "sns.heatmap(confusion, annot=True, fmt=\"d\", yticklabels=[1, 0], xticklabels=[1, 0], cbar=False, cmap=\"YlGnBu\")\n",
    "plt.show()\n",
    "\n",
    "print(classification_report(y_test, prediction_rf))\n",
    "\n",
    "clf.score(x_test, y_test)"
   ]
  },
  {
   "cell_type": "markdown",
   "metadata": {
    "id": "NT6kO9UQsQit"
   },
   "source": [
    "# Additional tasks\n",
    "\n",
    "*   Plot ROC curve for implemented models\n",
    "*   Implement prediction using another model, such as the k-nearest neighbors algorithm, decision tree classifier, gaussian naive bayes, neural network etc. Or maybe try to use sklearn.model_selection.GridSearchCV based on already implemented models.\n",
    "\n",
    "\n",
    "\n"
   ]
  },
  {
   "cell_type": "code",
   "execution_count": 19,
   "metadata": {},
   "outputs": [
    {
     "data": {
      "image/png": "[encoded data removed]",
      "text/plain": [
       "<Figure size 432x288 with 1 Axes>"
      ]
     },
     "metadata": {
      "needs_background": "light"
     },
     "output_type": "display_data"
    },
    {
     "name": "stdout",
     "output_type": "stream",
     "text": [
      "              precision    recall  f1-score   support\n",
      "\n",
      "           0       0.87      0.87      0.87       266\n",
      "           1       0.77      0.76      0.77       152\n",
      "\n",
      "    accuracy                           0.83       418\n",
      "   macro avg       0.82      0.82      0.82       418\n",
      "weighted avg       0.83      0.83      0.83       418\n",
      "\n"
     ]
    }
   ],
   "source": [
    "from sklearn.tree import DecisionTreeClassifier\n",
    "\n",
    "model_dt = DecisionTreeClassifier()\n",
    "\n",
    "model_dt.fit(x_tr, y_tr)\n",
    "prediction_dt = model_dt.predict(x_test)\n",
    "\n",
    "confusion = confusion_matrix(y_test, prediction_dt)\n",
    "sns.heatmap(confusion, annot=True, fmt=\"d\", yticklabels=[1, 0], xticklabels=[1, 0], cbar=False, cmap=\"YlGnBu\")\n",
    "plt.show()\n",
    "\n",
    "print(classification_report(y_test, prediction_dt))"
   ]
  },
  {
   "cell_type": "code",
   "execution_count": 21,
   "metadata": {},
   "outputs": [
    {
     "data": {
      "image/png": "[encoded data removed]",
      "text/plain": [
       "<Figure size 1296x720 with 1 Axes>"
      ]
     },
     "metadata": {
      "needs_background": "light"
     },
     "output_type": "display_data"
    }
   ],
   "source": [
    "fig = plt.figure(figsize=(18, 10))\n",
    "pred_dict = {\n",
    "    \"LogisticRegression()\":list(prediction_lg),\n",
    "    \"Support Vector Machine\":list(prediction_sv),\n",
    "    \"RandomForestClassifier()\": list(prediction_rf),\n",
    "    \"DecisionTreeClassifier()\": list(prediction_dt)\n",
    "    }\n",
    "\n",
    "for key in pred_dict:\n",
    "    fpr, tpr, _ = roc_curve(y_test, pred_dict[key])\n",
    "    auc = roc_auc_score(y_test, pred_dict[key])\n",
    "    plt.plot(fpr, tpr,  label=\"{}, AUC={:.3f}\".format(key, auc))\n",
    "    plt.plot([0,1], [0,1], linestyle='--')\n",
    "\n",
    "    plt.xticks(np.arange(0.0, 1.1, step=0.1))\n",
    "    plt.xlabel(\"Flase Positive Rate\", fontsize=15)\n",
    "\n",
    "    plt.yticks(np.arange(0.0, 1.1, step=0.1))\n",
    "    plt.ylabel(\"True Positive Rate\", fontsize=15)\n",
    "\n",
    "    plt.title('ROC Curve Analysis', fontweight='bold', fontsize=15)\n",
    "    plt.legend(prop={'size':13}, loc='lower right')\n",
    "\n",
    "plt.show()"
   ]
  }
 ],
 "metadata": {
  "colab": {
   "collapsed_sections": [],
   "name": "Titanic_template.ipynb",
   "provenance": []
  },
  "kernelspec": {
   "display_name": "Python 3 (ipykernel)",
   "language": "python",
   "name": "python3"
  },
  "language_info": {
   "codemirror_mode": {
    "name": "ipython",
    "version": 3
   },
   "file_extension": ".py",
   "mimetype": "text/x-python",
   "name": "python",
   "nbconvert_exporter": "python",
   "pygments_lexer": "ipython3",
   "version": "3.10.0"
  }
 },
 "nbformat": 4,
 "nbformat_minor": 4
}
