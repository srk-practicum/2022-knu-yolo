{
  "cells": [
    {
      "cell_type": "markdown",
      "id": "af4b9b8a",
      "metadata": {
        "id": "af4b9b8a"
      },
      "source": [
        "# Train NN model on the FashionMNIST data\n",
        "\n",
        "https://www.kaggle.com/zalando-research/fashionmnist\n",
        "\n",
        "Fashion-MNIST is a dataset of Zalando's article images—consisting of a training set of 60,000 examples and a test set of 10,000 examples. Each example is a 28x28 grayscale image, associated with a label from 10 classes. Zalando intends Fashion-MNIST to serve as a direct drop-in replacement for the original MNIST dataset for benchmarking machine learning algorithms. It shares the same image size and structure of training and testing splits.\n",
        "\n",
        "You may refer to this tutorial about the original Mnist:\n",
        "https://towardsdatascience.com/handwritten-digit-mnist-pytorch-977b5338e627\n",
        "\n",
        "Or any other tutorial you may find online:\n",
        "https://www.kaggle.com/zalando-research/fashionmnist/code"
      ]
    },
    {
      "cell_type": "code",
      "execution_count": 1,
      "id": "a60fad90",
      "metadata": {
        "id": "a60fad90"
      },
      "outputs": [],
      "source": [
        "import torch\n",
        "from torch import nn\n",
        "from torch.utils.data import DataLoader\n",
        "from torchvision import datasets\n",
        "from torchvision.transforms import ToTensor, Lambda, Compose\n",
        "import matplotlib.pyplot as plt \n",
        "%matplotlib inline"
      ]
    },
    {
      "cell_type": "code",
      "execution_count": 2,
      "id": "33c19eee",
      "metadata": {
        "colab": {
          "base_uri": "https://localhost:8080/",
          "height": 442,
          "referenced_widgets": [
            "2153bf75b9734e33bc55acb3ec33622f",
            "5b7052e195504189be269dcb83008bd5",
            "d798a398be2743fbb0e56d6e1094c493",
            "6c1ad7d67ac3430b9abd3fbab36b0f97",
            "140727db23bf4b7d9eecb1c356e89e0d",
            "88a9ceb5ec554ae68ad08eb2b24b95c0",
            "ed91eabafea848c4a86badd2b0d1d3c8",
            "115c90c8f14b418ca6bae986f1112ba0",
            "6ae82ce3a2014cada6d8b93469e567db",
            "fbc1eb9731354d118cb67d3666d0f22d",
            "906b2d8c8dc54f2f8e983e35b01d3967",
            "7e2f8cf95062428884e328eda7afa0ec",
            "eb6a892d74394ddaa173ac3abb9c9d1b",
            "ddc94f2c9ea940f4b2f0b1047695178b",
            "d6d20c5824454572b421c89b53da0de5",
            "3ce39eca828e4574a3f56dcc675639f2",
            "d84c2d39c97b43a59430a30aba5abb57",
            "ffb611090e73442da36328e5d90144e1",
            "a1cb5e197c9f454fbe9efb7710192bdf",
            "a5e6d75d69b249898bb70ba5f4a085ac",
            "591417be9daf43b2ab696c44eef2fa38",
            "3356cc6b7ce64e8ebb8c2a5899ed1b05",
            "0525c3940b3547618ebf304ede7b40e6",
            "b5d0cc38fb724a67944f9672e1601efc",
            "fa07a889a25e42abbe82447f3a201164",
            "e933a89a7d614139859bbb0bee35df6f",
            "5a9758ba163246479ba6ade638a7c3e0",
            "d6605ca2c795457dbe3f1ed12a868e96",
            "3b8824e96de14f5599ff0df6c1c50560",
            "f0995411377a4441a4c7bf07fde99b5c",
            "114c07be258540dbb119c3edb5ee9d36",
            "7fb1f4f6c5f94212bb84297dc6ff5f9b",
            "0a4ab452c3a945ebbd453fe51ad17c3c",
            "4e8d702ccda14d73ac9feed7be0d9d69",
            "46eef75e40554b8aaacc940bc6f1f06a",
            "4ad794046a224d8e8b930fb6cb714143",
            "30cc315ccd5046c5bf16299e5015e0e5",
            "056c3746d573470f90b6d734d1b39d55",
            "1ead436fc5924f249d71dc8d797425e3",
            "87a6c4602d0443528f590b7a33b29c88",
            "fd408c4d37b94cdbafa3b05ba81f7084",
            "0347c9530f8545bb9f5f46cd5a99963d",
            "0a1555dfb4224734b35ef7c8fcd66f86",
            "a5c67043becc4662a33b27c4806e7477"
          ]
        },
        "id": "33c19eee",
        "outputId": "12c7eadb-ef1c-4c10-bc07-e4fb6f94470e"
      },
      "outputs": [
        {
          "output_type": "stream",
          "name": "stdout",
          "text": [
            "Downloading http://fashion-mnist.s3-website.eu-central-1.amazonaws.com/train-images-idx3-ubyte.gz\n",
            "Downloading http://fashion-mnist.s3-website.eu-central-1.amazonaws.com/train-images-idx3-ubyte.gz to data/FashionMNIST/raw/train-images-idx3-ubyte.gz\n"
          ]
        },
        {
          "output_type": "display_data",
          "data": {
            "application/vnd.jupyter.widget-view+json": {
              "model_id": "2153bf75b9734e33bc55acb3ec33622f",
              "version_minor": 0,
              "version_major": 2
            },
            "text/plain": [
              "  0%|          | 0/26421880 [00:00<?, ?it/s]"
            ]
          },
          "metadata": {}
        },
        {
          "output_type": "stream",
          "name": "stdout",
          "text": [
            "Extracting data/FashionMNIST/raw/train-images-idx3-ubyte.gz to data/FashionMNIST/raw\n",
            "\n",
            "Downloading http://fashion-mnist.s3-website.eu-central-1.amazonaws.com/train-labels-idx1-ubyte.gz\n",
            "Downloading http://fashion-mnist.s3-website.eu-central-1.amazonaws.com/train-labels-idx1-ubyte.gz to data/FashionMNIST/raw/train-labels-idx1-ubyte.gz\n"
          ]
        },
        {
          "output_type": "display_data",
          "data": {
            "application/vnd.jupyter.widget-view+json": {
              "model_id": "7e2f8cf95062428884e328eda7afa0ec",
              "version_minor": 0,
              "version_major": 2
            },
            "text/plain": [
              "  0%|          | 0/29515 [00:00<?, ?it/s]"
            ]
          },
          "metadata": {}
        },
        {
          "output_type": "stream",
          "name": "stdout",
          "text": [
            "Extracting data/FashionMNIST/raw/train-labels-idx1-ubyte.gz to data/FashionMNIST/raw\n",
            "\n",
            "Downloading http://fashion-mnist.s3-website.eu-central-1.amazonaws.com/t10k-images-idx3-ubyte.gz\n",
            "Downloading http://fashion-mnist.s3-website.eu-central-1.amazonaws.com/t10k-images-idx3-ubyte.gz to data/FashionMNIST/raw/t10k-images-idx3-ubyte.gz\n"
          ]
        },
        {
          "output_type": "display_data",
          "data": {
            "application/vnd.jupyter.widget-view+json": {
              "model_id": "0525c3940b3547618ebf304ede7b40e6",
              "version_minor": 0,
              "version_major": 2
            },
            "text/plain": [
              "  0%|          | 0/4422102 [00:00<?, ?it/s]"
            ]
          },
          "metadata": {}
        },
        {
          "output_type": "stream",
          "name": "stdout",
          "text": [
            "Extracting data/FashionMNIST/raw/t10k-images-idx3-ubyte.gz to data/FashionMNIST/raw\n",
            "\n",
            "Downloading http://fashion-mnist.s3-website.eu-central-1.amazonaws.com/t10k-labels-idx1-ubyte.gz\n",
            "Downloading http://fashion-mnist.s3-website.eu-central-1.amazonaws.com/t10k-labels-idx1-ubyte.gz to data/FashionMNIST/raw/t10k-labels-idx1-ubyte.gz\n"
          ]
        },
        {
          "output_type": "display_data",
          "data": {
            "application/vnd.jupyter.widget-view+json": {
              "model_id": "4e8d702ccda14d73ac9feed7be0d9d69",
              "version_minor": 0,
              "version_major": 2
            },
            "text/plain": [
              "  0%|          | 0/5148 [00:00<?, ?it/s]"
            ]
          },
          "metadata": {}
        },
        {
          "output_type": "stream",
          "name": "stdout",
          "text": [
            "Extracting data/FashionMNIST/raw/t10k-labels-idx1-ubyte.gz to data/FashionMNIST/raw\n",
            "\n"
          ]
        }
      ],
      "source": [
        "training_data = datasets.FashionMNIST(\n",
        "    root=\"data\",\n",
        "    train=True,\n",
        "    download=True,\n",
        "    transform=ToTensor()\n",
        ")\n",
        "\n",
        "test_data = datasets.FashionMNIST(\n",
        "    root=\"data\",\n",
        "    train=False,\n",
        "    download=True,\n",
        "    transform=ToTensor()\n",
        ")"
      ]
    },
    {
      "cell_type": "code",
      "execution_count": 3,
      "id": "605d1835",
      "metadata": {
        "colab": {
          "base_uri": "https://localhost:8080/",
          "height": 1000
        },
        "id": "605d1835",
        "outputId": "194d2ef0-cd04-4889-eeeb-8454092ac22c"
      },
      "outputs": [
        {
          "output_type": "stream",
          "name": "stdout",
          "text": [
            "tensor([[[0.0000, 0.0000, 0.0000, 0.0000, 0.0000, 0.0039, 0.0039, 0.0000,\n",
            "          0.0000, 0.0000, 0.0000, 0.2471, 0.1098, 0.0000, 0.0000, 0.0000,\n",
            "          0.1294, 0.3333, 0.0000, 0.0000, 0.0000, 0.0000, 0.0000, 0.0000,\n",
            "          0.0000, 0.0000, 0.0000, 0.0000],\n",
            "         [0.0000, 0.0000, 0.0000, 0.0000, 0.0000, 0.0078, 0.0000, 0.0000,\n",
            "          0.1098, 0.4941, 0.9451, 1.0000, 1.0000, 1.0000, 1.0000, 1.0000,\n",
            "          1.0000, 0.9882, 0.9725, 0.4353, 0.0000, 0.0000, 0.0000, 0.0078,\n",
            "          0.0000, 0.0000, 0.0000, 0.0000],\n",
            "         [0.0000, 0.0000, 0.0000, 0.0000, 0.0078, 0.0000, 0.0000, 0.8078,\n",
            "          0.9569, 0.9843, 0.9451, 0.9020, 0.9333, 0.8667, 0.8039, 0.9020,\n",
            "          0.9412, 0.9020, 0.9373, 0.9843, 0.9137, 0.6471, 0.0000, 0.0000,\n",
            "          0.0078, 0.0000, 0.0000, 0.0000],\n",
            "         [0.0000, 0.0000, 0.0000, 0.0039, 0.0000, 0.0000, 0.7804, 0.9843,\n",
            "          0.8941, 0.9176, 0.9137, 0.9255, 0.9216, 0.9608, 0.9686, 0.9294,\n",
            "          0.9176, 0.9373, 0.9020, 0.9020, 0.9216, 1.0000, 0.6902, 0.0000,\n",
            "          0.0000, 0.0039, 0.0000, 0.0000],\n",
            "         [0.0000, 0.0000, 0.0000, 0.0000, 0.0000, 0.3176, 0.9961, 0.8863,\n",
            "          0.8941, 0.9373, 0.9294, 0.9255, 0.9176, 0.9098, 0.9137, 0.9216,\n",
            "          0.9216, 0.9255, 0.9373, 0.9294, 0.9137, 0.8824, 0.9647, 0.2863,\n",
            "          0.0000, 0.0000, 0.0000, 0.0000],\n",
            "         [0.0000, 0.0000, 0.0118, 0.0000, 0.0000, 1.0000, 0.9216, 0.9373,\n",
            "          0.8745, 0.9176, 0.9333, 0.9255, 0.9294, 0.9255, 0.9216, 0.9216,\n",
            "          0.9216, 0.9216, 0.9255, 0.9216, 0.9176, 0.9020, 0.9059, 1.0000,\n",
            "          0.0941, 0.0000, 0.0157, 0.0000],\n",
            "         [0.0000, 0.0000, 0.0000, 0.0000, 0.6941, 0.9373, 0.8745, 0.9961,\n",
            "          0.8745, 0.9098, 0.9176, 0.9176, 0.9255, 0.9255, 0.9216, 0.9216,\n",
            "          0.9216, 0.9216, 0.9216, 0.9176, 0.9059, 0.9137, 0.8706, 0.9647,\n",
            "          0.3451, 0.0000, 0.0039, 0.0000],\n",
            "         [0.0000, 0.0000, 0.0000, 0.0000, 0.9176, 0.9373, 0.8980, 1.0000,\n",
            "          0.8627, 0.9098, 0.9137, 0.9098, 0.9176, 0.9216, 0.9216, 0.9216,\n",
            "          0.9216, 0.9216, 0.9176, 0.9137, 0.9098, 0.9020, 0.8941, 0.9961,\n",
            "          0.5490, 0.0000, 0.0000, 0.0000],\n",
            "         [0.0000, 0.0000, 0.0000, 0.0000, 0.8824, 0.9412, 0.8863, 1.0000,\n",
            "          0.8667, 0.8902, 0.9098, 0.8941, 0.9059, 0.9020, 0.8941, 0.8980,\n",
            "          0.9059, 0.9020, 0.8941, 0.8941, 0.9098, 0.8745, 0.8980, 0.9569,\n",
            "          0.9059, 0.0000, 0.0000, 0.0000],\n",
            "         [0.0000, 0.0000, 0.0000, 0.1843, 0.9608, 0.9059, 0.9176, 0.9765,\n",
            "          0.8980, 0.8667, 0.8980, 0.8824, 0.8980, 0.8902, 0.8863, 0.8902,\n",
            "          0.8941, 0.8902, 0.8941, 0.8980, 0.8941, 0.8784, 0.9647, 0.9412,\n",
            "          0.8902, 0.0000, 0.0000, 0.0000],\n",
            "         [0.0000, 0.0000, 0.0000, 0.2000, 0.9725, 0.9020, 0.9608, 0.9647,\n",
            "          0.9020, 0.8863, 0.9020, 0.8902, 0.9020, 0.8980, 0.8941, 0.8980,\n",
            "          0.9020, 0.8941, 0.8941, 0.9059, 0.8824, 0.8902, 0.9490, 0.9294,\n",
            "          1.0000, 0.0000, 0.0000, 0.0000],\n",
            "         [0.0000, 0.0000, 0.0000, 0.3961, 0.9922, 0.8980, 0.9686, 0.9451,\n",
            "          0.8667, 0.9137, 0.8941, 0.8902, 0.8980, 0.8941, 0.8902, 0.8941,\n",
            "          0.9020, 0.8902, 0.9020, 0.9176, 0.8824, 0.8980, 0.9843, 0.8980,\n",
            "          0.9529, 0.2157, 0.0000, 0.0000],\n",
            "         [0.0000, 0.0000, 0.0000, 0.4000, 1.0000, 0.8902, 0.9490, 0.9451,\n",
            "          0.8667, 0.9176, 0.8745, 0.9020, 0.8941, 0.9059, 0.8980, 0.9059,\n",
            "          0.9059, 0.8902, 0.8980, 0.9451, 0.8588, 0.9255, 0.9961, 0.8824,\n",
            "          0.9804, 0.6549, 0.0000, 0.0000],\n",
            "         [0.0000, 0.0000, 0.0000, 0.3529, 1.0000, 0.8980, 0.9255, 0.9059,\n",
            "          0.8706, 0.9255, 0.8745, 0.9059, 0.8980, 0.9059, 0.8980, 0.9059,\n",
            "          0.9059, 0.8941, 0.8784, 0.9608, 0.8549, 0.9529, 0.9373, 0.8902,\n",
            "          0.9569, 0.6863, 0.0000, 0.0000],\n",
            "         [0.0000, 0.0000, 0.0000, 0.8314, 0.9804, 0.8824, 0.9255, 0.9765,\n",
            "          0.8980, 0.9294, 0.8745, 0.9059, 0.8980, 0.9059, 0.8980, 0.9059,\n",
            "          0.9059, 0.9020, 0.8667, 0.9529, 0.8824, 0.9725, 0.9020, 0.9255,\n",
            "          0.9176, 1.0000, 0.0039, 0.0000],\n",
            "         [0.0000, 0.0000, 0.0000, 0.9608, 0.9529, 0.9098, 0.9529, 0.8549,\n",
            "          0.8941, 0.9333, 0.8706, 0.9059, 0.8980, 0.9059, 0.8980, 0.9059,\n",
            "          0.9059, 0.9020, 0.8706, 0.9294, 0.9294, 0.9882, 0.8980, 0.9373,\n",
            "          0.9412, 0.8745, 0.0000, 0.0000],\n",
            "         [0.0000, 0.0000, 0.1059, 1.0000, 0.9216, 0.9490, 0.9294, 0.8471,\n",
            "          0.9020, 0.9255, 0.8784, 0.8980, 0.8902, 0.9137, 0.9137, 0.9137,\n",
            "          0.9020, 0.8941, 0.8784, 0.9020, 0.9608, 0.9686, 0.8667, 0.9529,\n",
            "          0.9373, 0.9882, 0.0000, 0.0000],\n",
            "         [0.0000, 0.0000, 0.3451, 1.0000, 0.9098, 0.9725, 0.9255, 0.8157,\n",
            "          0.9176, 0.9059, 0.8745, 0.8902, 0.8863, 0.9137, 0.9098, 0.9098,\n",
            "          0.9020, 0.8941, 0.8784, 0.8784, 0.9216, 0.9137, 0.9176, 0.9686,\n",
            "          0.9216, 1.0000, 0.0000, 0.0000],\n",
            "         [0.0000, 0.0000, 0.3255, 1.0000, 0.8824, 0.9804, 0.9294, 0.8784,\n",
            "          0.9255, 0.8980, 0.8824, 0.8824, 0.8902, 0.9216, 0.8980, 0.9059,\n",
            "          0.9020, 0.9020, 0.8902, 0.8667, 0.8902, 0.8667, 0.9373, 0.9804,\n",
            "          0.9059, 1.0000, 0.0000, 0.0000],\n",
            "         [0.0000, 0.0000, 0.0784, 1.0000, 0.8784, 0.9725, 0.9176, 0.8863,\n",
            "          0.9098, 0.8706, 0.8824, 0.8784, 0.9059, 0.9333, 0.8863, 0.9020,\n",
            "          0.8941, 0.9020, 0.9020, 0.8667, 0.8980, 0.8824, 0.9569, 0.9647,\n",
            "          0.9020, 1.0000, 0.0000, 0.0000],\n",
            "         [0.0000, 0.0000, 0.3725, 1.0000, 0.8549, 0.9490, 1.0000, 0.9098,\n",
            "          0.8863, 0.8784, 0.8980, 0.8941, 0.8941, 0.9098, 0.8941, 0.8980,\n",
            "          0.9059, 0.9137, 0.9098, 0.8863, 0.8667, 0.8784, 0.9686, 0.9569,\n",
            "          0.8941, 1.0000, 0.0000, 0.0000],\n",
            "         [0.0000, 0.0000, 0.6549, 1.0000, 0.8353, 0.9216, 1.0000, 0.3176,\n",
            "          0.9608, 0.9843, 0.9333, 0.9255, 0.9020, 0.8980, 0.9020, 0.8980,\n",
            "          0.9020, 0.9059, 0.9333, 0.9412, 1.0000, 0.7529, 1.0000, 0.9373,\n",
            "          0.8941, 1.0000, 0.0902, 0.0000],\n",
            "         [0.0000, 0.0000, 0.6784, 0.9490, 0.8784, 0.9137, 1.0000, 0.0000,\n",
            "          0.5333, 0.8863, 0.9373, 1.0000, 0.8980, 0.9255, 0.9255, 0.9176,\n",
            "          0.9137, 0.8941, 0.9843, 0.9725, 0.7843, 0.3176, 1.0000, 0.9294,\n",
            "          0.8824, 1.0000, 0.3961, 0.0000],\n",
            "         [0.0000, 0.0000, 0.6745, 1.0000, 0.8863, 0.9137, 1.0000, 0.0000,\n",
            "          0.0000, 0.0000, 0.0000, 0.0000, 0.0314, 0.0824, 0.0863, 0.0824,\n",
            "          0.0784, 0.0549, 0.0000, 0.0000, 0.0000, 0.0000, 1.0000, 0.9333,\n",
            "          0.8980, 0.9647, 0.6980, 0.0000],\n",
            "         [0.0000, 0.0000, 0.0627, 1.0000, 0.9255, 0.9333, 0.9882, 0.0000,\n",
            "          0.0000, 0.0000, 0.0000, 0.0000, 0.0000, 0.0000, 0.0000, 0.0000,\n",
            "          0.0000, 0.0000, 0.0000, 0.0000, 0.0000, 0.0000, 0.8706, 0.9569,\n",
            "          0.8706, 0.9961, 0.4667, 0.0000],\n",
            "         [0.0000, 0.0000, 0.0000, 0.1176, 0.8941, 0.9490, 0.6392, 0.0000,\n",
            "          0.0000, 0.0000, 0.0000, 0.0078, 0.0157, 0.0235, 0.0196, 0.0196,\n",
            "          0.0157, 0.0157, 0.0078, 0.0000, 0.0039, 0.0000, 0.5922, 0.9843,\n",
            "          0.9216, 0.7059, 0.0000, 0.0000],\n",
            "         [0.0000, 0.0000, 0.0000, 0.0000, 0.9176, 1.0000, 0.7490, 0.0000,\n",
            "          0.0431, 0.0000, 0.0000, 0.0000, 0.0000, 0.0000, 0.0000, 0.0000,\n",
            "          0.0000, 0.0000, 0.0000, 0.0000, 0.0157, 0.0000, 0.4039, 0.9647,\n",
            "          0.9686, 0.2824, 0.0000, 0.0000],\n",
            "         [0.0000, 0.0000, 0.0000, 0.0039, 0.3725, 0.3020, 0.2039, 0.0000,\n",
            "          0.0157, 0.0000, 0.0000, 0.0000, 0.0000, 0.0000, 0.0000, 0.0000,\n",
            "          0.0000, 0.0000, 0.0000, 0.0000, 0.0118, 0.0000, 0.3216, 0.9294,\n",
            "          0.9059, 0.2745, 0.0000, 0.0000]]])\n"
          ]
        },
        {
          "output_type": "display_data",
          "data": {
            "image/png": "[encoded data removed]",
            "text/plain": [
              "<Figure size 432x288 with 1 Axes>"
            ]
          },
          "metadata": {
            "needs_background": "light"
          }
        }
      ],
      "source": [
        "# Lest read a random image from the dataset and draw it\n",
        "image, label = training_data[7]\n",
        "print(image)\n",
        "plt.imshow(image[0], \"gray\")\n",
        "plt.title(f\"Image of class: {label}\")\n",
        "plt.show()"
      ]
    },
    {
      "cell_type": "code",
      "execution_count": null,
      "id": "f490ddd3",
      "metadata": {
        "colab": {
          "base_uri": "https://localhost:8080/"
        },
        "id": "f490ddd3",
        "outputId": "c37ed964-570c-4997-84ac-337df6b8f7fe"
      },
      "outputs": [
        {
          "output_type": "execute_result",
          "data": {
            "text/plain": [
              "torch.Size([1, 28, 28])"
            ]
          },
          "metadata": {},
          "execution_count": 14
        }
      ],
      "source": [
        "# Lets check image shape\n",
        "image.shape"
      ]
    },
    {
      "cell_type": "code",
      "execution_count": null,
      "id": "16f15225",
      "metadata": {
        "colab": {
          "base_uri": "https://localhost:8080/"
        },
        "id": "16f15225",
        "outputId": "27560376-ed8d-44e8-801c-f921067a0d0e"
      },
      "outputs": [
        {
          "output_type": "execute_result",
          "data": {
            "text/plain": [
              "['T-shirt/top',\n",
              " 'Trouser',\n",
              " 'Pullover',\n",
              " 'Dress',\n",
              " 'Coat',\n",
              " 'Sandal',\n",
              " 'Shirt',\n",
              " 'Sneaker',\n",
              " 'Bag',\n",
              " 'Ankle boot']"
            ]
          },
          "metadata": {},
          "execution_count": 15
        }
      ],
      "source": [
        "# Lets see all the classes available\n",
        "training_data.classes"
      ]
    },
    {
      "cell_type": "markdown",
      "id": "bf2a7f78",
      "metadata": {
        "id": "bf2a7f78"
      },
      "source": [
        "# Task 1:\n",
        "\n",
        "Create a DataLoader objects for train and test"
      ]
    },
    {
      "cell_type": "code",
      "execution_count": 4,
      "id": "97c9881c",
      "metadata": {
        "id": "97c9881c"
      },
      "outputs": [],
      "source": [
        "data = DataLoader(training_data, batch_size=32, shuffle=True)\n",
        "test = DataLoader(test_data, batch_size=1, shuffle=True)"
      ]
    },
    {
      "cell_type": "markdown",
      "id": "0695343f",
      "metadata": {
        "id": "0695343f"
      },
      "source": [
        "# Task 2:\n",
        "\n",
        "Create a Neural Network"
      ]
    },
    {
      "cell_type": "code",
      "execution_count": 5,
      "id": "f9b3d73d",
      "metadata": {
        "id": "f9b3d73d",
        "colab": {
          "base_uri": "https://localhost:8080/"
        },
        "outputId": "089b00e7-3471-4e9c-b7d4-83fb57287063"
      },
      "outputs": [
        {
          "output_type": "stream",
          "name": "stdout",
          "text": [
            "Network(\n",
            "  (fc1): Linear(in_features=784, out_features=200, bias=True)\n",
            "  (fc2): Linear(in_features=200, out_features=200, bias=True)\n",
            "  (fc4): Linear(in_features=200, out_features=10, bias=True)\n",
            ")\n"
          ]
        }
      ],
      "source": [
        "class Network(nn.Module):\n",
        "  def __init__(self):\n",
        "        super().__init__()\n",
        "        self.normalize = nn.functional.normalize\n",
        "        self.fc1 = nn.Linear(28 * 28, 200)\n",
        "        self.fc2 = nn.Linear(200, 200)\n",
        "        self.fc4 = nn.Linear(200, 10)\n",
        "        self.relu = nn.functional.relu\n",
        "        self.softmax = nn.functional.softmax\n",
        "  def forward(self, x):\n",
        "    x = x.reshape(-1, 784)\n",
        "    x = self.relu(self.fc1(x))\n",
        "    x = self.relu(self.fc2(x))\n",
        "    output = self.softmax(self.fc4(x), dim=1)\n",
        "    return output\n",
        "\n",
        "\n",
        "net = Network()\n",
        "print(net)"
      ]
    },
    {
      "cell_type": "markdown",
      "id": "e13d5117",
      "metadata": {
        "id": "e13d5117"
      },
      "source": [
        "# Task 3:\n",
        "\n",
        "Specify loss and optimizer"
      ]
    },
    {
      "cell_type": "code",
      "execution_count": 6,
      "id": "8cd11bf9",
      "metadata": {
        "id": "8cd11bf9"
      },
      "outputs": [],
      "source": [
        "criterion = nn.CrossEntropyLoss()\n",
        "optimizer = torch.optim.Adam(net.parameters(), lr=0.001)\n"
      ]
    },
    {
      "cell_type": "markdown",
      "id": "605caa5b",
      "metadata": {
        "id": "605caa5b"
      },
      "source": [
        "# Task 3:\n",
        "\n",
        "Train model using for loop"
      ]
    },
    {
      "cell_type": "code",
      "execution_count": 7,
      "id": "a724b721",
      "metadata": {
        "id": "a724b721",
        "colab": {
          "base_uri": "https://localhost:8080/"
        },
        "outputId": "6bb0d1f3-689b-42f3-aba2-53dc4affb811"
      },
      "outputs": [
        {
          "output_type": "stream",
          "name": "stdout",
          "text": [
            "Passed epoch 1\n"
          ]
        }
      ],
      "source": [
        "for epoch in range(10):\n",
        "  for batch, (X, y) in enumerate(data):\n",
        "      pred = net.forward(X)\n",
        "      loss = criterion(pred, y)\n",
        "      \n",
        "      optimizer.zero_grad()\n",
        "      loss.backward()\n",
        "      optimizer.step()\n",
        "  if epoch % 10 == 0:\n",
        "    print(f\"Passed epoch {epoch + 1}\")"
      ]
    },
    {
      "cell_type": "markdown",
      "id": "72d61b00",
      "metadata": {
        "id": "72d61b00"
      },
      "source": [
        "# Task 4:\n",
        "\n",
        "Report accuracy from train set, and test set independently"
      ]
    },
    {
      "cell_type": "code",
      "execution_count": 8,
      "id": "d129cd18",
      "metadata": {
        "id": "d129cd18",
        "colab": {
          "base_uri": "https://localhost:8080/"
        },
        "outputId": "33dc3503-93c9-4abe-9d26-fb2a75060c7d"
      },
      "outputs": [
        {
          "output_type": "stream",
          "name": "stdout",
          "text": [
            "Accuracy on a train set:\n",
            "tensor(0.8613)\n",
            "Accuracy on a test set\n",
            "tensor(0.8487)\n"
          ]
        }
      ],
      "source": [
        "def accuracy(outputs, labels):\n",
        "    _, preds = torch.max(outputs, dim=1)\n",
        "    return torch.tensor(torch.sum(preds == labels).item() / len(preds))\n",
        "def predict(model, dataloader):\n",
        "  all_preds = torch.tensor([])\n",
        "  true_vals = torch.tensor([])\n",
        "  with torch.no_grad():\n",
        "    for (X, y) in dataloader:\n",
        "      all_preds = torch.cat((all_preds, model.forward(X)), 0)\n",
        "      true_vals = torch.cat((true_vals, y), 0)\n",
        "  return all_preds, true_vals\n",
        "preds_train, vals_train = predict(net, data)\n",
        "preds_test, vals_test = predict(net, test)\n",
        "acc_train = accuracy(preds_train, vals_train)\n",
        "acc_test = accuracy(preds_test, vals_test)\n",
        "print(\"Accuracy on a train set:\")\n",
        "print(acc_train)\n",
        "print(\"Accuracy on a test set\")\n",
        "print(acc_test)"
      ]
    },
    {
      "cell_type": "markdown",
      "id": "0bfcc3eb",
      "metadata": {
        "id": "0bfcc3eb"
      },
      "source": [
        "# Task 5:\n",
        "\n",
        "Report confussion matrix for the test set\n",
        "\n",
        "Expected format:\n",
        "```\n",
        "array([[0., 0., 0., 0., 0., 0., 0., 0., 0., 0.],\n",
        "       [0., 0., 0., 0., 0., 0., 0., 0., 0., 0.],\n",
        "       [0., 0., 0., 0., 0., 0., 0., 0., 0., 0.],\n",
        "       [0., 0., 0., 0., 0., 0., 0., 0., 0., 0.],\n",
        "       [0., 0., 0., 0., 0., 0., 0., 0., 0., 0.],\n",
        "       [0., 0., 0., 0., 0., 0., 0., 0., 0., 0.],\n",
        "       [0., 0., 0., 0., 0., 0., 0., 0., 0., 0.],\n",
        "       [0., 0., 0., 0., 0., 0., 0., 0., 0., 0.],\n",
        "       [0., 0., 0., 0., 0., 0., 0., 0., 0., 0.],\n",
        "       [0., 0., 0., 0., 0., 0., 0., 0., 0., 0.]])\n",
        "```"
      ]
    },
    {
      "cell_type": "code",
      "source": [
        "from sklearn.metrics import confusion_matrix\n",
        "_, preds = torch.max(preds_test, dim=1)\n",
        "conf_mat = confusion_matrix(vals_test.numpy(), preds.numpy())\n",
        "print('Confusion matrix')\n",
        "print(conf_mat)"
      ],
      "metadata": {
        "id": "JrJ6BlkOOu70",
        "colab": {
          "base_uri": "https://localhost:8080/"
        },
        "outputId": "6b0b5237-6ed3-4d76-e796-612e60780bf0"
      },
      "id": "JrJ6BlkOOu70",
      "execution_count": 9,
      "outputs": [
        {
          "output_type": "stream",
          "name": "stdout",
          "text": [
            "Confusion matrix\n",
            "[[868   0   7  43   3   0  71   0   7   1]\n",
            " [ 10 915   4  61   5   0   4   0   1   0]\n",
            " [ 24   0 841  16  85   0  31   0   3   0]\n",
            " [ 27   2   7 902  21   0  39   0   2   0]\n",
            " [  0   0 202  54 719   0  22   0   3   0]\n",
            " [  0   0   0   3   0 950   0  19   1  27]\n",
            " [201   1 153  48 131   0 456   0  10   0]\n",
            " [  0   0   0   0   0  40   0 931   0  29]\n",
            " [  5   0   6   5   5   4  10   4 961   0]\n",
            " [  0   0   0   1   0   3   0  51   1 944]]\n"
          ]
        }
      ]
    },
    {
      "cell_type": "markdown",
      "id": "ba2a7f90",
      "metadata": {
        "id": "ba2a7f90"
      },
      "source": [
        "# Task 6 (optional):\n",
        "\n",
        "Train LogisticRegression and DecisionTree models on the same data\n",
        "Compare their performance to the NN"
      ]
    },
    {
      "cell_type": "code",
      "execution_count": null,
      "id": "f009b458",
      "metadata": {
        "id": "f009b458"
      },
      "outputs": [],
      "source": [
        ""
      ]
    }
  ],
  "metadata": {
    "kernelspec": {
      "display_name": "Python 3 (ipykernel)",
      "language": "python",
      "name": "python3"
    },
    "language_info": {
      "codemirror_mode": {
        "name": "ipython",
        "version": 3
      },
      "file_extension": ".py",
      "mimetype": "text/x-python",
      "name": "python",
      "nbconvert_exporter": "python",
      "pygments_lexer": "ipython3",
      "version": "3.8.0"
    },
    "colab": {
      "name": "FashionMnist_template.ipynb.txt",
      "provenance": [],
      "collapsed_sections": []
    },
    "widgets": {
      "application/vnd.jupyter.widget-state+json": {
        "2153bf75b9734e33bc55acb3ec33622f": {
          "model_module": "@jupyter-widgets/controls",
          "model_name": "HBoxModel",
          "model_module_version": "1.5.0",
          "state": {
            "_view_name": "HBoxView",
            "_dom_classes": [],
            "_model_name": "HBoxModel",
            "_view_module": "@jupyter-widgets/controls",
            "_model_module_version": "1.5.0",
            "_view_count": null,
            "_view_module_version": "1.5.0",
            "box_style": "",
            "layout": "IPY_MODEL_5b7052e195504189be269dcb83008bd5",
            "_model_module": "@jupyter-widgets/controls",
            "children": [
              "IPY_MODEL_d798a398be2743fbb0e56d6e1094c493",
              "IPY_MODEL_6c1ad7d67ac3430b9abd3fbab36b0f97",
              "IPY_MODEL_140727db23bf4b7d9eecb1c356e89e0d"
            ]
          }
        },
        "5b7052e195504189be269dcb83008bd5": {
          "model_module": "@jupyter-widgets/base",
          "model_name": "LayoutModel",
          "model_module_version": "1.2.0",
          "state": {
            "_view_name": "LayoutView",
            "grid_template_rows": null,
            "right": null,
            "justify_content": null,
            "_view_module": "@jupyter-widgets/base",
            "overflow": null,
            "_model_module_version": "1.2.0",
            "_view_count": null,
            "flex_flow": null,
            "width": null,
            "min_width": null,
            "border": null,
            "align_items": null,
            "bottom": null,
            "_model_module": "@jupyter-widgets/base",
            "top": null,
            "grid_column": null,
            "overflow_y": null,
            "overflow_x": null,
            "grid_auto_flow": null,
            "grid_area": null,
            "grid_template_columns": null,
            "flex": null,
            "_model_name": "LayoutModel",
            "justify_items": null,
            "grid_row": null,
            "max_height": null,
            "align_content": null,
            "visibility": null,
            "align_self": null,
            "height": null,
            "min_height": null,
            "padding": null,
            "grid_auto_rows": null,
            "grid_gap": null,
            "max_width": null,
            "order": null,
            "_view_module_version": "1.2.0",
            "grid_template_areas": null,
            "object_position": null,
            "object_fit": null,
            "grid_auto_columns": null,
            "margin": null,
            "display": null,
            "left": null
          }
        },
        "d798a398be2743fbb0e56d6e1094c493": {
          "model_module": "@jupyter-widgets/controls",
          "model_name": "HTMLModel",
          "model_module_version": "1.5.0",
          "state": {
            "_view_name": "HTMLView",
            "style": "IPY_MODEL_88a9ceb5ec554ae68ad08eb2b24b95c0",
            "_dom_classes": [],
            "description": "",
            "_model_name": "HTMLModel",
            "placeholder": "​",
            "_view_module": "@jupyter-widgets/controls",
            "_model_module_version": "1.5.0",
            "value": "",
            "_view_count": null,
            "_view_module_version": "1.5.0",
            "description_tooltip": null,
            "_model_module": "@jupyter-widgets/controls",
            "layout": "IPY_MODEL_ed91eabafea848c4a86badd2b0d1d3c8"
          }
        },
        "6c1ad7d67ac3430b9abd3fbab36b0f97": {
          "model_module": "@jupyter-widgets/controls",
          "model_name": "FloatProgressModel",
          "model_module_version": "1.5.0",
          "state": {
            "_view_name": "ProgressView",
            "style": "IPY_MODEL_115c90c8f14b418ca6bae986f1112ba0",
            "_dom_classes": [],
            "description": "",
            "_model_name": "FloatProgressModel",
            "bar_style": "success",
            "max": 26421880,
            "_view_module": "@jupyter-widgets/controls",
            "_model_module_version": "1.5.0",
            "value": 26421880,
            "_view_count": null,
            "_view_module_version": "1.5.0",
            "orientation": "horizontal",
            "min": 0,
            "description_tooltip": null,
            "_model_module": "@jupyter-widgets/controls",
            "layout": "IPY_MODEL_6ae82ce3a2014cada6d8b93469e567db"
          }
        },
        "140727db23bf4b7d9eecb1c356e89e0d": {
          "model_module": "@jupyter-widgets/controls",
          "model_name": "HTMLModel",
          "model_module_version": "1.5.0",
          "state": {
            "_view_name": "HTMLView",
            "style": "IPY_MODEL_fbc1eb9731354d118cb67d3666d0f22d",
            "_dom_classes": [],
            "description": "",
            "_model_name": "HTMLModel",
            "placeholder": "​",
            "_view_module": "@jupyter-widgets/controls",
            "_model_module_version": "1.5.0",
            "value": " 26422272/? [00:01&lt;00:00, 22291351.69it/s]",
            "_view_count": null,
            "_view_module_version": "1.5.0",
            "description_tooltip": null,
            "_model_module": "@jupyter-widgets/controls",
            "layout": "IPY_MODEL_906b2d8c8dc54f2f8e983e35b01d3967"
          }
        },
        "88a9ceb5ec554ae68ad08eb2b24b95c0": {
          "model_module": "@jupyter-widgets/controls",
          "model_name": "DescriptionStyleModel",
          "model_module_version": "1.5.0",
          "state": {
            "_view_name": "StyleView",
            "_model_name": "DescriptionStyleModel",
            "description_width": "",
            "_view_module": "@jupyter-widgets/base",
            "_model_module_version": "1.5.0",
            "_view_count": null,
            "_view_module_version": "1.2.0",
            "_model_module": "@jupyter-widgets/controls"
          }
        },
        "ed91eabafea848c4a86badd2b0d1d3c8": {
          "model_module": "@jupyter-widgets/base",
          "model_name": "LayoutModel",
          "model_module_version": "1.2.0",
          "state": {
            "_view_name": "LayoutView",
            "grid_template_rows": null,
            "right": null,
            "justify_content": null,
            "_view_module": "@jupyter-widgets/base",
            "overflow": null,
            "_model_module_version": "1.2.0",
            "_view_count": null,
            "flex_flow": null,
            "width": null,
            "min_width": null,
            "border": null,
            "align_items": null,
            "bottom": null,
            "_model_module": "@jupyter-widgets/base",
            "top": null,
            "grid_column": null,
            "overflow_y": null,
            "overflow_x": null,
            "grid_auto_flow": null,
            "grid_area": null,
            "grid_template_columns": null,
            "flex": null,
            "_model_name": "LayoutModel",
            "justify_items": null,
            "grid_row": null,
            "max_height": null,
            "align_content": null,
            "visibility": null,
            "align_self": null,
            "height": null,
            "min_height": null,
            "padding": null,
            "grid_auto_rows": null,
            "grid_gap": null,
            "max_width": null,
            "order": null,
            "_view_module_version": "1.2.0",
            "grid_template_areas": null,
            "object_position": null,
            "object_fit": null,
            "grid_auto_columns": null,
            "margin": null,
            "display": null,
            "left": null
          }
        },
        "115c90c8f14b418ca6bae986f1112ba0": {
          "model_module": "@jupyter-widgets/controls",
          "model_name": "ProgressStyleModel",
          "model_module_version": "1.5.0",
          "state": {
            "_view_name": "StyleView",
            "_model_name": "ProgressStyleModel",
            "description_width": "",
            "_view_module": "@jupyter-widgets/base",
            "_model_module_version": "1.5.0",
            "_view_count": null,
            "_view_module_version": "1.2.0",
            "bar_color": null,
            "_model_module": "@jupyter-widgets/controls"
          }
        },
        "6ae82ce3a2014cada6d8b93469e567db": {
          "model_module": "@jupyter-widgets/base",
          "model_name": "LayoutModel",
          "model_module_version": "1.2.0",
          "state": {
            "_view_name": "LayoutView",
            "grid_template_rows": null,
            "right": null,
            "justify_content": null,
            "_view_module": "@jupyter-widgets/base",
            "overflow": null,
            "_model_module_version": "1.2.0",
            "_view_count": null,
            "flex_flow": null,
            "width": null,
            "min_width": null,
            "border": null,
            "align_items": null,
            "bottom": null,
            "_model_module": "@jupyter-widgets/base",
            "top": null,
            "grid_column": null,
            "overflow_y": null,
            "overflow_x": null,
            "grid_auto_flow": null,
            "grid_area": null,
            "grid_template_columns": null,
            "flex": null,
            "_model_name": "LayoutModel",
            "justify_items": null,
            "grid_row": null,
            "max_height": null,
            "align_content": null,
            "visibility": null,
            "align_self": null,
            "height": null,
            "min_height": null,
            "padding": null,
            "grid_auto_rows": null,
            "grid_gap": null,
            "max_width": null,
            "order": null,
            "_view_module_version": "1.2.0",
            "grid_template_areas": null,
            "object_position": null,
            "object_fit": null,
            "grid_auto_columns": null,
            "margin": null,
            "display": null,
            "left": null
          }
        },
        "fbc1eb9731354d118cb67d3666d0f22d": {
          "model_module": "@jupyter-widgets/controls",
          "model_name": "DescriptionStyleModel",
          "model_module_version": "1.5.0",
          "state": {
            "_view_name": "StyleView",
            "_model_name": "DescriptionStyleModel",
            "description_width": "",
            "_view_module": "@jupyter-widgets/base",
            "_model_module_version": "1.5.0",
            "_view_count": null,
            "_view_module_version": "1.2.0",
            "_model_module": "@jupyter-widgets/controls"
          }
        },
        "906b2d8c8dc54f2f8e983e35b01d3967": {
          "model_module": "@jupyter-widgets/base",
          "model_name": "LayoutModel",
          "model_module_version": "1.2.0",
          "state": {
            "_view_name": "LayoutView",
            "grid_template_rows": null,
            "right": null,
            "justify_content": null,
            "_view_module": "@jupyter-widgets/base",
            "overflow": null,
            "_model_module_version": "1.2.0",
            "_view_count": null,
            "flex_flow": null,
            "width": null,
            "min_width": null,
            "border": null,
            "align_items": null,
            "bottom": null,
            "_model_module": "@jupyter-widgets/base",
            "top": null,
            "grid_column": null,
            "overflow_y": null,
            "overflow_x": null,
            "grid_auto_flow": null,
            "grid_area": null,
            "grid_template_columns": null,
            "flex": null,
            "_model_name": "LayoutModel",
            "justify_items": null,
            "grid_row": null,
            "max_height": null,
            "align_content": null,
            "visibility": null,
            "align_self": null,
            "height": null,
            "min_height": null,
            "padding": null,
            "grid_auto_rows": null,
            "grid_gap": null,
            "max_width": null,
            "order": null,
            "_view_module_version": "1.2.0",
            "grid_template_areas": null,
            "object_position": null,
            "object_fit": null,
            "grid_auto_columns": null,
            "margin": null,
            "display": null,
            "left": null
          }
        },
        "7e2f8cf95062428884e328eda7afa0ec": {
          "model_module": "@jupyter-widgets/controls",
          "model_name": "HBoxModel",
          "model_module_version": "1.5.0",
          "state": {
            "_view_name": "HBoxView",
            "_dom_classes": [],
            "_model_name": "HBoxModel",
            "_view_module": "@jupyter-widgets/controls",
            "_model_module_version": "1.5.0",
            "_view_count": null,
            "_view_module_version": "1.5.0",
            "box_style": "",
            "layout": "IPY_MODEL_eb6a892d74394ddaa173ac3abb9c9d1b",
            "_model_module": "@jupyter-widgets/controls",
            "children": [
              "IPY_MODEL_ddc94f2c9ea940f4b2f0b1047695178b",
              "IPY_MODEL_d6d20c5824454572b421c89b53da0de5",
              "IPY_MODEL_3ce39eca828e4574a3f56dcc675639f2"
            ]
          }
        },
        "eb6a892d74394ddaa173ac3abb9c9d1b": {
          "model_module": "@jupyter-widgets/base",
          "model_name": "LayoutModel",
          "model_module_version": "1.2.0",
          "state": {
            "_view_name": "LayoutView",
            "grid_template_rows": null,
            "right": null,
            "justify_content": null,
            "_view_module": "@jupyter-widgets/base",
            "overflow": null,
            "_model_module_version": "1.2.0",
            "_view_count": null,
            "flex_flow": null,
            "width": null,
            "min_width": null,
            "border": null,
            "align_items": null,
            "bottom": null,
            "_model_module": "@jupyter-widgets/base",
            "top": null,
            "grid_column": null,
            "overflow_y": null,
            "overflow_x": null,
            "grid_auto_flow": null,
            "grid_area": null,
            "grid_template_columns": null,
            "flex": null,
            "_model_name": "LayoutModel",
            "justify_items": null,
            "grid_row": null,
            "max_height": null,
            "align_content": null,
            "visibility": null,
            "align_self": null,
            "height": null,
            "min_height": null,
            "padding": null,
            "grid_auto_rows": null,
            "grid_gap": null,
            "max_width": null,
            "order": null,
            "_view_module_version": "1.2.0",
            "grid_template_areas": null,
            "object_position": null,
            "object_fit": null,
            "grid_auto_columns": null,
            "margin": null,
            "display": null,
            "left": null
          }
        },
        "ddc94f2c9ea940f4b2f0b1047695178b": {
          "model_module": "@jupyter-widgets/controls",
          "model_name": "HTMLModel",
          "model_module_version": "1.5.0",
          "state": {
            "_view_name": "HTMLView",
            "style": "IPY_MODEL_d84c2d39c97b43a59430a30aba5abb57",
            "_dom_classes": [],
            "description": "",
            "_model_name": "HTMLModel",
            "placeholder": "​",
            "_view_module": "@jupyter-widgets/controls",
            "_model_module_version": "1.5.0",
            "value": "",
            "_view_count": null,
            "_view_module_version": "1.5.0",
            "description_tooltip": null,
            "_model_module": "@jupyter-widgets/controls",
            "layout": "IPY_MODEL_ffb611090e73442da36328e5d90144e1"
          }
        },
        "d6d20c5824454572b421c89b53da0de5": {
          "model_module": "@jupyter-widgets/controls",
          "model_name": "FloatProgressModel",
          "model_module_version": "1.5.0",
          "state": {
            "_view_name": "ProgressView",
            "style": "IPY_MODEL_a1cb5e197c9f454fbe9efb7710192bdf",
            "_dom_classes": [],
            "description": "",
            "_model_name": "FloatProgressModel",
            "bar_style": "success",
            "max": 29515,
            "_view_module": "@jupyter-widgets/controls",
            "_model_module_version": "1.5.0",
            "value": 29515,
            "_view_count": null,
            "_view_module_version": "1.5.0",
            "orientation": "horizontal",
            "min": 0,
            "description_tooltip": null,
            "_model_module": "@jupyter-widgets/controls",
            "layout": "IPY_MODEL_a5e6d75d69b249898bb70ba5f4a085ac"
          }
        },
        "3ce39eca828e4574a3f56dcc675639f2": {
          "model_module": "@jupyter-widgets/controls",
          "model_name": "HTMLModel",
          "model_module_version": "1.5.0",
          "state": {
            "_view_name": "HTMLView",
            "style": "IPY_MODEL_591417be9daf43b2ab696c44eef2fa38",
            "_dom_classes": [],
            "description": "",
            "_model_name": "HTMLModel",
            "placeholder": "​",
            "_view_module": "@jupyter-widgets/controls",
            "_model_module_version": "1.5.0",
            "value": " 29696/? [00:00&lt;00:00, 136303.04it/s]",
            "_view_count": null,
            "_view_module_version": "1.5.0",
            "description_tooltip": null,
            "_model_module": "@jupyter-widgets/controls",
            "layout": "IPY_MODEL_3356cc6b7ce64e8ebb8c2a5899ed1b05"
          }
        },
        "d84c2d39c97b43a59430a30aba5abb57": {
          "model_module": "@jupyter-widgets/controls",
          "model_name": "DescriptionStyleModel",
          "model_module_version": "1.5.0",
          "state": {
            "_view_name": "StyleView",
            "_model_name": "DescriptionStyleModel",
            "description_width": "",
            "_view_module": "@jupyter-widgets/base",
            "_model_module_version": "1.5.0",
            "_view_count": null,
            "_view_module_version": "1.2.0",
            "_model_module": "@jupyter-widgets/controls"
          }
        },
        "ffb611090e73442da36328e5d90144e1": {
          "model_module": "@jupyter-widgets/base",
          "model_name": "LayoutModel",
          "model_module_version": "1.2.0",
          "state": {
            "_view_name": "LayoutView",
            "grid_template_rows": null,
            "right": null,
            "justify_content": null,
            "_view_module": "@jupyter-widgets/base",
            "overflow": null,
            "_model_module_version": "1.2.0",
            "_view_count": null,
            "flex_flow": null,
            "width": null,
            "min_width": null,
            "border": null,
            "align_items": null,
            "bottom": null,
            "_model_module": "@jupyter-widgets/base",
            "top": null,
            "grid_column": null,
            "overflow_y": null,
            "overflow_x": null,
            "grid_auto_flow": null,
            "grid_area": null,
            "grid_template_columns": null,
            "flex": null,
            "_model_name": "LayoutModel",
            "justify_items": null,
            "grid_row": null,
            "max_height": null,
            "align_content": null,
            "visibility": null,
            "align_self": null,
            "height": null,
            "min_height": null,
            "padding": null,
            "grid_auto_rows": null,
            "grid_gap": null,
            "max_width": null,
            "order": null,
            "_view_module_version": "1.2.0",
            "grid_template_areas": null,
            "object_position": null,
            "object_fit": null,
            "grid_auto_columns": null,
            "margin": null,
            "display": null,
            "left": null
          }
        },
        "a1cb5e197c9f454fbe9efb7710192bdf": {
          "model_module": "@jupyter-widgets/controls",
          "model_name": "ProgressStyleModel",
          "model_module_version": "1.5.0",
          "state": {
            "_view_name": "StyleView",
            "_model_name": "ProgressStyleModel",
            "description_width": "",
            "_view_module": "@jupyter-widgets/base",
            "_model_module_version": "1.5.0",
            "_view_count": null,
            "_view_module_version": "1.2.0",
            "bar_color": null,
            "_model_module": "@jupyter-widgets/controls"
          }
        },
        "a5e6d75d69b249898bb70ba5f4a085ac": {
          "model_module": "@jupyter-widgets/base",
          "model_name": "LayoutModel",
          "model_module_version": "1.2.0",
          "state": {
            "_view_name": "LayoutView",
            "grid_template_rows": null,
            "right": null,
            "justify_content": null,
            "_view_module": "@jupyter-widgets/base",
            "overflow": null,
            "_model_module_version": "1.2.0",
            "_view_count": null,
            "flex_flow": null,
            "width": null,
            "min_width": null,
            "border": null,
            "align_items": null,
            "bottom": null,
            "_model_module": "@jupyter-widgets/base",
            "top": null,
            "grid_column": null,
            "overflow_y": null,
            "overflow_x": null,
            "grid_auto_flow": null,
            "grid_area": null,
            "grid_template_columns": null,
            "flex": null,
            "_model_name": "LayoutModel",
            "justify_items": null,
            "grid_row": null,
            "max_height": null,
            "align_content": null,
            "visibility": null,
            "align_self": null,
            "height": null,
            "min_height": null,
            "padding": null,
            "grid_auto_rows": null,
            "grid_gap": null,
            "max_width": null,
            "order": null,
            "_view_module_version": "1.2.0",
            "grid_template_areas": null,
            "object_position": null,
            "object_fit": null,
            "grid_auto_columns": null,
            "margin": null,
            "display": null,
            "left": null
          }
        },
        "591417be9daf43b2ab696c44eef2fa38": {
          "model_module": "@jupyter-widgets/controls",
          "model_name": "DescriptionStyleModel",
          "model_module_version": "1.5.0",
          "state": {
            "_view_name": "StyleView",
            "_model_name": "DescriptionStyleModel",
            "description_width": "",
            "_view_module": "@jupyter-widgets/base",
            "_model_module_version": "1.5.0",
            "_view_count": null,
            "_view_module_version": "1.2.0",
            "_model_module": "@jupyter-widgets/controls"
          }
        },
        "3356cc6b7ce64e8ebb8c2a5899ed1b05": {
          "model_module": "@jupyter-widgets/base",
          "model_name": "LayoutModel",
          "model_module_version": "1.2.0",
          "state": {
            "_view_name": "LayoutView",
            "grid_template_rows": null,
            "right": null,
            "justify_content": null,
            "_view_module": "@jupyter-widgets/base",
            "overflow": null,
            "_model_module_version": "1.2.0",
            "_view_count": null,
            "flex_flow": null,
            "width": null,
            "min_width": null,
            "border": null,
            "align_items": null,
            "bottom": null,
            "_model_module": "@jupyter-widgets/base",
            "top": null,
            "grid_column": null,
            "overflow_y": null,
            "overflow_x": null,
            "grid_auto_flow": null,
            "grid_area": null,
            "grid_template_columns": null,
            "flex": null,
            "_model_name": "LayoutModel",
            "justify_items": null,
            "grid_row": null,
            "max_height": null,
            "align_content": null,
            "visibility": null,
            "align_self": null,
            "height": null,
            "min_height": null,
            "padding": null,
            "grid_auto_rows": null,
            "grid_gap": null,
            "max_width": null,
            "order": null,
            "_view_module_version": "1.2.0",
            "grid_template_areas": null,
            "object_position": null,
            "object_fit": null,
            "grid_auto_columns": null,
            "margin": null,
            "display": null,
            "left": null
          }
        },
        "0525c3940b3547618ebf304ede7b40e6": {
          "model_module": "@jupyter-widgets/controls",
          "model_name": "HBoxModel",
          "model_module_version": "1.5.0",
          "state": {
            "_view_name": "HBoxView",
            "_dom_classes": [],
            "_model_name": "HBoxModel",
            "_view_module": "@jupyter-widgets/controls",
            "_model_module_version": "1.5.0",
            "_view_count": null,
            "_view_module_version": "1.5.0",
            "box_style": "",
            "layout": "IPY_MODEL_b5d0cc38fb724a67944f9672e1601efc",
            "_model_module": "@jupyter-widgets/controls",
            "children": [
              "IPY_MODEL_fa07a889a25e42abbe82447f3a201164",
              "IPY_MODEL_e933a89a7d614139859bbb0bee35df6f",
              "IPY_MODEL_5a9758ba163246479ba6ade638a7c3e0"
            ]
          }
        },
        "b5d0cc38fb724a67944f9672e1601efc": {
          "model_module": "@jupyter-widgets/base",
          "model_name": "LayoutModel",
          "model_module_version": "1.2.0",
          "state": {
            "_view_name": "LayoutView",
            "grid_template_rows": null,
            "right": null,
            "justify_content": null,
            "_view_module": "@jupyter-widgets/base",
            "overflow": null,
            "_model_module_version": "1.2.0",
            "_view_count": null,
            "flex_flow": null,
            "width": null,
            "min_width": null,
            "border": null,
            "align_items": null,
            "bottom": null,
            "_model_module": "@jupyter-widgets/base",
            "top": null,
            "grid_column": null,
            "overflow_y": null,
            "overflow_x": null,
            "grid_auto_flow": null,
            "grid_area": null,
            "grid_template_columns": null,
            "flex": null,
            "_model_name": "LayoutModel",
            "justify_items": null,
            "grid_row": null,
            "max_height": null,
            "align_content": null,
            "visibility": null,
            "align_self": null,
            "height": null,
            "min_height": null,
            "padding": null,
            "grid_auto_rows": null,
            "grid_gap": null,
            "max_width": null,
            "order": null,
            "_view_module_version": "1.2.0",
            "grid_template_areas": null,
            "object_position": null,
            "object_fit": null,
            "grid_auto_columns": null,
            "margin": null,
            "display": null,
            "left": null
          }
        },
        "fa07a889a25e42abbe82447f3a201164": {
          "model_module": "@jupyter-widgets/controls",
          "model_name": "HTMLModel",
          "model_module_version": "1.5.0",
          "state": {
            "_view_name": "HTMLView",
            "style": "IPY_MODEL_d6605ca2c795457dbe3f1ed12a868e96",
            "_dom_classes": [],
            "description": "",
            "_model_name": "HTMLModel",
            "placeholder": "​",
            "_view_module": "@jupyter-widgets/controls",
            "_model_module_version": "1.5.0",
            "value": "",
            "_view_count": null,
            "_view_module_version": "1.5.0",
            "description_tooltip": null,
            "_model_module": "@jupyter-widgets/controls",
            "layout": "IPY_MODEL_3b8824e96de14f5599ff0df6c1c50560"
          }
        },
        "e933a89a7d614139859bbb0bee35df6f": {
          "model_module": "@jupyter-widgets/controls",
          "model_name": "FloatProgressModel",
          "model_module_version": "1.5.0",
          "state": {
            "_view_name": "ProgressView",
            "style": "IPY_MODEL_f0995411377a4441a4c7bf07fde99b5c",
            "_dom_classes": [],
            "description": "",
            "_model_name": "FloatProgressModel",
            "bar_style": "success",
            "max": 4422102,
            "_view_module": "@jupyter-widgets/controls",
            "_model_module_version": "1.5.0",
            "value": 4422102,
            "_view_count": null,
            "_view_module_version": "1.5.0",
            "orientation": "horizontal",
            "min": 0,
            "description_tooltip": null,
            "_model_module": "@jupyter-widgets/controls",
            "layout": "IPY_MODEL_114c07be258540dbb119c3edb5ee9d36"
          }
        },
        "5a9758ba163246479ba6ade638a7c3e0": {
          "model_module": "@jupyter-widgets/controls",
          "model_name": "HTMLModel",
          "model_module_version": "1.5.0",
          "state": {
            "_view_name": "HTMLView",
            "style": "IPY_MODEL_7fb1f4f6c5f94212bb84297dc6ff5f9b",
            "_dom_classes": [],
            "description": "",
            "_model_name": "HTMLModel",
            "placeholder": "​",
            "_view_module": "@jupyter-widgets/controls",
            "_model_module_version": "1.5.0",
            "value": " 4422656/? [00:00&lt;00:00, 7769755.96it/s]",
            "_view_count": null,
            "_view_module_version": "1.5.0",
            "description_tooltip": null,
            "_model_module": "@jupyter-widgets/controls",
            "layout": "IPY_MODEL_0a4ab452c3a945ebbd453fe51ad17c3c"
          }
        },
        "d6605ca2c795457dbe3f1ed12a868e96": {
          "model_module": "@jupyter-widgets/controls",
          "model_name": "DescriptionStyleModel",
          "model_module_version": "1.5.0",
          "state": {
            "_view_name": "StyleView",
            "_model_name": "DescriptionStyleModel",
            "description_width": "",
            "_view_module": "@jupyter-widgets/base",
            "_model_module_version": "1.5.0",
            "_view_count": null,
            "_view_module_version": "1.2.0",
            "_model_module": "@jupyter-widgets/controls"
          }
        },
        "3b8824e96de14f5599ff0df6c1c50560": {
          "model_module": "@jupyter-widgets/base",
          "model_name": "LayoutModel",
          "model_module_version": "1.2.0",
          "state": {
            "_view_name": "LayoutView",
            "grid_template_rows": null,
            "right": null,
            "justify_content": null,
            "_view_module": "@jupyter-widgets/base",
            "overflow": null,
            "_model_module_version": "1.2.0",
            "_view_count": null,
            "flex_flow": null,
            "width": null,
            "min_width": null,
            "border": null,
            "align_items": null,
            "bottom": null,
            "_model_module": "@jupyter-widgets/base",
            "top": null,
            "grid_column": null,
            "overflow_y": null,
            "overflow_x": null,
            "grid_auto_flow": null,
            "grid_area": null,
            "grid_template_columns": null,
            "flex": null,
            "_model_name": "LayoutModel",
            "justify_items": null,
            "grid_row": null,
            "max_height": null,
            "align_content": null,
            "visibility": null,
            "align_self": null,
            "height": null,
            "min_height": null,
            "padding": null,
            "grid_auto_rows": null,
            "grid_gap": null,
            "max_width": null,
            "order": null,
            "_view_module_version": "1.2.0",
            "grid_template_areas": null,
            "object_position": null,
            "object_fit": null,
            "grid_auto_columns": null,
            "margin": null,
            "display": null,
            "left": null
          }
        },
        "f0995411377a4441a4c7bf07fde99b5c": {
          "model_module": "@jupyter-widgets/controls",
          "model_name": "ProgressStyleModel",
          "model_module_version": "1.5.0",
          "state": {
            "_view_name": "StyleView",
            "_model_name": "ProgressStyleModel",
            "description_width": "",
            "_view_module": "@jupyter-widgets/base",
            "_model_module_version": "1.5.0",
            "_view_count": null,
            "_view_module_version": "1.2.0",
            "bar_color": null,
            "_model_module": "@jupyter-widgets/controls"
          }
        },
        "114c07be258540dbb119c3edb5ee9d36": {
          "model_module": "@jupyter-widgets/base",
          "model_name": "LayoutModel",
          "model_module_version": "1.2.0",
          "state": {
            "_view_name": "LayoutView",
            "grid_template_rows": null,
            "right": null,
            "justify_content": null,
            "_view_module": "@jupyter-widgets/base",
            "overflow": null,
            "_model_module_version": "1.2.0",
            "_view_count": null,
            "flex_flow": null,
            "width": null,
            "min_width": null,
            "border": null,
            "align_items": null,
            "bottom": null,
            "_model_module": "@jupyter-widgets/base",
            "top": null,
            "grid_column": null,
            "overflow_y": null,
            "overflow_x": null,
            "grid_auto_flow": null,
            "grid_area": null,
            "grid_template_columns": null,
            "flex": null,
            "_model_name": "LayoutModel",
            "justify_items": null,
            "grid_row": null,
            "max_height": null,
            "align_content": null,
            "visibility": null,
            "align_self": null,
            "height": null,
            "min_height": null,
            "padding": null,
            "grid_auto_rows": null,
            "grid_gap": null,
            "max_width": null,
            "order": null,
            "_view_module_version": "1.2.0",
            "grid_template_areas": null,
            "object_position": null,
            "object_fit": null,
            "grid_auto_columns": null,
            "margin": null,
            "display": null,
            "left": null
          }
        },
        "7fb1f4f6c5f94212bb84297dc6ff5f9b": {
          "model_module": "@jupyter-widgets/controls",
          "model_name": "DescriptionStyleModel",
          "model_module_version": "1.5.0",
          "state": {
            "_view_name": "StyleView",
            "_model_name": "DescriptionStyleModel",
            "description_width": "",
            "_view_module": "@jupyter-widgets/base",
            "_model_module_version": "1.5.0",
            "_view_count": null,
            "_view_module_version": "1.2.0",
            "_model_module": "@jupyter-widgets/controls"
          }
        },
        "0a4ab452c3a945ebbd453fe51ad17c3c": {
          "model_module": "@jupyter-widgets/base",
          "model_name": "LayoutModel",
          "model_module_version": "1.2.0",
          "state": {
            "_view_name": "LayoutView",
            "grid_template_rows": null,
            "right": null,
            "justify_content": null,
            "_view_module": "@jupyter-widgets/base",
            "overflow": null,
            "_model_module_version": "1.2.0",
            "_view_count": null,
            "flex_flow": null,
            "width": null,
            "min_width": null,
            "border": null,
            "align_items": null,
            "bottom": null,
            "_model_module": "@jupyter-widgets/base",
            "top": null,
            "grid_column": null,
            "overflow_y": null,
            "overflow_x": null,
            "grid_auto_flow": null,
            "grid_area": null,
            "grid_template_columns": null,
            "flex": null,
            "_model_name": "LayoutModel",
            "justify_items": null,
            "grid_row": null,
            "max_height": null,
            "align_content": null,
            "visibility": null,
            "align_self": null,
            "height": null,
            "min_height": null,
            "padding": null,
            "grid_auto_rows": null,
            "grid_gap": null,
            "max_width": null,
            "order": null,
            "_view_module_version": "1.2.0",
            "grid_template_areas": null,
            "object_position": null,
            "object_fit": null,
            "grid_auto_columns": null,
            "margin": null,
            "display": null,
            "left": null
          }
        },
        "4e8d702ccda14d73ac9feed7be0d9d69": {
          "model_module": "@jupyter-widgets/controls",
          "model_name": "HBoxModel",
          "model_module_version": "1.5.0",
          "state": {
            "_view_name": "HBoxView",
            "_dom_classes": [],
            "_model_name": "HBoxModel",
            "_view_module": "@jupyter-widgets/controls",
            "_model_module_version": "1.5.0",
            "_view_count": null,
            "_view_module_version": "1.5.0",
            "box_style": "",
            "layout": "IPY_MODEL_46eef75e40554b8aaacc940bc6f1f06a",
            "_model_module": "@jupyter-widgets/controls",
            "children": [
              "IPY_MODEL_4ad794046a224d8e8b930fb6cb714143",
              "IPY_MODEL_30cc315ccd5046c5bf16299e5015e0e5",
              "IPY_MODEL_056c3746d573470f90b6d734d1b39d55"
            ]
          }
        },
        "46eef75e40554b8aaacc940bc6f1f06a": {
          "model_module": "@jupyter-widgets/base",
          "model_name": "LayoutModel",
          "model_module_version": "1.2.0",
          "state": {
            "_view_name": "LayoutView",
            "grid_template_rows": null,
            "right": null,
            "justify_content": null,
            "_view_module": "@jupyter-widgets/base",
            "overflow": null,
            "_model_module_version": "1.2.0",
            "_view_count": null,
            "flex_flow": null,
            "width": null,
            "min_width": null,
            "border": null,
            "align_items": null,
            "bottom": null,
            "_model_module": "@jupyter-widgets/base",
            "top": null,
            "grid_column": null,
            "overflow_y": null,
            "overflow_x": null,
            "grid_auto_flow": null,
            "grid_area": null,
            "grid_template_columns": null,
            "flex": null,
            "_model_name": "LayoutModel",
            "justify_items": null,
            "grid_row": null,
            "max_height": null,
            "align_content": null,
            "visibility": null,
            "align_self": null,
            "height": null,
            "min_height": null,
            "padding": null,
            "grid_auto_rows": null,
            "grid_gap": null,
            "max_width": null,
            "order": null,
            "_view_module_version": "1.2.0",
            "grid_template_areas": null,
            "object_position": null,
            "object_fit": null,
            "grid_auto_columns": null,
            "margin": null,
            "display": null,
            "left": null
          }
        },
        "4ad794046a224d8e8b930fb6cb714143": {
          "model_module": "@jupyter-widgets/controls",
          "model_name": "HTMLModel",
          "model_module_version": "1.5.0",
          "state": {
            "_view_name": "HTMLView",
            "style": "IPY_MODEL_1ead436fc5924f249d71dc8d797425e3",
            "_dom_classes": [],
            "description": "",
            "_model_name": "HTMLModel",
            "placeholder": "​",
            "_view_module": "@jupyter-widgets/controls",
            "_model_module_version": "1.5.0",
            "value": "",
            "_view_count": null,
            "_view_module_version": "1.5.0",
            "description_tooltip": null,
            "_model_module": "@jupyter-widgets/controls",
            "layout": "IPY_MODEL_87a6c4602d0443528f590b7a33b29c88"
          }
        },
        "30cc315ccd5046c5bf16299e5015e0e5": {
          "model_module": "@jupyter-widgets/controls",
          "model_name": "FloatProgressModel",
          "model_module_version": "1.5.0",
          "state": {
            "_view_name": "ProgressView",
            "style": "IPY_MODEL_fd408c4d37b94cdbafa3b05ba81f7084",
            "_dom_classes": [],
            "description": "",
            "_model_name": "FloatProgressModel",
            "bar_style": "success",
            "max": 5148,
            "_view_module": "@jupyter-widgets/controls",
            "_model_module_version": "1.5.0",
            "value": 5148,
            "_view_count": null,
            "_view_module_version": "1.5.0",
            "orientation": "horizontal",
            "min": 0,
            "description_tooltip": null,
            "_model_module": "@jupyter-widgets/controls",
            "layout": "IPY_MODEL_0347c9530f8545bb9f5f46cd5a99963d"
          }
        },
        "056c3746d573470f90b6d734d1b39d55": {
          "model_module": "@jupyter-widgets/controls",
          "model_name": "HTMLModel",
          "model_module_version": "1.5.0",
          "state": {
            "_view_name": "HTMLView",
            "style": "IPY_MODEL_0a1555dfb4224734b35ef7c8fcd66f86",
            "_dom_classes": [],
            "description": "",
            "_model_name": "HTMLModel",
            "placeholder": "​",
            "_view_module": "@jupyter-widgets/controls",
            "_model_module_version": "1.5.0",
            "value": " 6144/? [00:00&lt;00:00, 168969.02it/s]",
            "_view_count": null,
            "_view_module_version": "1.5.0",
            "description_tooltip": null,
            "_model_module": "@jupyter-widgets/controls",
            "layout": "IPY_MODEL_a5c67043becc4662a33b27c4806e7477"
          }
        },
        "1ead436fc5924f249d71dc8d797425e3": {
          "model_module": "@jupyter-widgets/controls",
          "model_name": "DescriptionStyleModel",
          "model_module_version": "1.5.0",
          "state": {
            "_view_name": "StyleView",
            "_model_name": "DescriptionStyleModel",
            "description_width": "",
            "_view_module": "@jupyter-widgets/base",
            "_model_module_version": "1.5.0",
            "_view_count": null,
            "_view_module_version": "1.2.0",
            "_model_module": "@jupyter-widgets/controls"
          }
        },
        "87a6c4602d0443528f590b7a33b29c88": {
          "model_module": "@jupyter-widgets/base",
          "model_name": "LayoutModel",
          "model_module_version": "1.2.0",
          "state": {
            "_view_name": "LayoutView",
            "grid_template_rows": null,
            "right": null,
            "justify_content": null,
            "_view_module": "@jupyter-widgets/base",
            "overflow": null,
            "_model_module_version": "1.2.0",
            "_view_count": null,
            "flex_flow": null,
            "width": null,
            "min_width": null,
            "border": null,
            "align_items": null,
            "bottom": null,
            "_model_module": "@jupyter-widgets/base",
            "top": null,
            "grid_column": null,
            "overflow_y": null,
            "overflow_x": null,
            "grid_auto_flow": null,
            "grid_area": null,
            "grid_template_columns": null,
            "flex": null,
            "_model_name": "LayoutModel",
            "justify_items": null,
            "grid_row": null,
            "max_height": null,
            "align_content": null,
            "visibility": null,
            "align_self": null,
            "height": null,
            "min_height": null,
            "padding": null,
            "grid_auto_rows": null,
            "grid_gap": null,
            "max_width": null,
            "order": null,
            "_view_module_version": "1.2.0",
            "grid_template_areas": null,
            "object_position": null,
            "object_fit": null,
            "grid_auto_columns": null,
            "margin": null,
            "display": null,
            "left": null
          }
        },
        "fd408c4d37b94cdbafa3b05ba81f7084": {
          "model_module": "@jupyter-widgets/controls",
          "model_name": "ProgressStyleModel",
          "model_module_version": "1.5.0",
          "state": {
            "_view_name": "StyleView",
            "_model_name": "ProgressStyleModel",
            "description_width": "",
            "_view_module": "@jupyter-widgets/base",
            "_model_module_version": "1.5.0",
            "_view_count": null,
            "_view_module_version": "1.2.0",
            "bar_color": null,
            "_model_module": "@jupyter-widgets/controls"
          }
        },
        "0347c9530f8545bb9f5f46cd5a99963d": {
          "model_module": "@jupyter-widgets/base",
          "model_name": "LayoutModel",
          "model_module_version": "1.2.0",
          "state": {
            "_view_name": "LayoutView",
            "grid_template_rows": null,
            "right": null,
            "justify_content": null,
            "_view_module": "@jupyter-widgets/base",
            "overflow": null,
            "_model_module_version": "1.2.0",
            "_view_count": null,
            "flex_flow": null,
            "width": null,
            "min_width": null,
            "border": null,
            "align_items": null,
            "bottom": null,
            "_model_module": "@jupyter-widgets/base",
            "top": null,
            "grid_column": null,
            "overflow_y": null,
            "overflow_x": null,
            "grid_auto_flow": null,
            "grid_area": null,
            "grid_template_columns": null,
            "flex": null,
            "_model_name": "LayoutModel",
            "justify_items": null,
            "grid_row": null,
            "max_height": null,
            "align_content": null,
            "visibility": null,
            "align_self": null,
            "height": null,
            "min_height": null,
            "padding": null,
            "grid_auto_rows": null,
            "grid_gap": null,
            "max_width": null,
            "order": null,
            "_view_module_version": "1.2.0",
            "grid_template_areas": null,
            "object_position": null,
            "object_fit": null,
            "grid_auto_columns": null,
            "margin": null,
            "display": null,
            "left": null
          }
        },
        "0a1555dfb4224734b35ef7c8fcd66f86": {
          "model_module": "@jupyter-widgets/controls",
          "model_name": "DescriptionStyleModel",
          "model_module_version": "1.5.0",
          "state": {
            "_view_name": "StyleView",
            "_model_name": "DescriptionStyleModel",
            "description_width": "",
            "_view_module": "@jupyter-widgets/base",
            "_model_module_version": "1.5.0",
            "_view_count": null,
            "_view_module_version": "1.2.0",
            "_model_module": "@jupyter-widgets/controls"
          }
        },
        "a5c67043becc4662a33b27c4806e7477": {
          "model_module": "@jupyter-widgets/base",
          "model_name": "LayoutModel",
          "model_module_version": "1.2.0",
          "state": {
            "_view_name": "LayoutView",
            "grid_template_rows": null,
            "right": null,
            "justify_content": null,
            "_view_module": "@jupyter-widgets/base",
            "overflow": null,
            "_model_module_version": "1.2.0",
            "_view_count": null,
            "flex_flow": null,
            "width": null,
            "min_width": null,
            "border": null,
            "align_items": null,
            "bottom": null,
            "_model_module": "@jupyter-widgets/base",
            "top": null,
            "grid_column": null,
            "overflow_y": null,
            "overflow_x": null,
            "grid_auto_flow": null,
            "grid_area": null,
            "grid_template_columns": null,
            "flex": null,
            "_model_name": "LayoutModel",
            "justify_items": null,
            "grid_row": null,
            "max_height": null,
            "align_content": null,
            "visibility": null,
            "align_self": null,
            "height": null,
            "min_height": null,
            "padding": null,
            "grid_auto_rows": null,
            "grid_gap": null,
            "max_width": null,
            "order": null,
            "_view_module_version": "1.2.0",
            "grid_template_areas": null,
            "object_position": null,
            "object_fit": null,
            "grid_auto_columns": null,
            "margin": null,
            "display": null,
            "left": null
          }
        }
      }
    }
  },
  "nbformat": 4,
  "nbformat_minor": 5
}