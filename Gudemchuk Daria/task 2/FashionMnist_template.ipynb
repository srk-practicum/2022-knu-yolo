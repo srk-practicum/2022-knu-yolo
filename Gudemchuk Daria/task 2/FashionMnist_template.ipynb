{
 "cells": [
  {
   "cell_type": "markdown",
   "id": "af4b9b8a",
   "metadata": {},
   "source": [
    "# Train NN model on the FashionMNIST data\n",
    "\n",
    "https://www.kaggle.com/zalando-research/fashionmnist\n",
    "\n",
    "Fashion-MNIST is a dataset of Zalando's article images—consisting of a training set of 60,000 examples and a test set of 10,000 examples. Each example is a 28x28 grayscale image, associated with a label from 10 classes. Zalando intends Fashion-MNIST to serve as a direct drop-in replacement for the original MNIST dataset for benchmarking machine learning algorithms. It shares the same image size and structure of training and testing splits.\n",
    "\n",
    "You may refer to this tutorial about the original Mnist:\n",
    "https://towardsdatascience.com/handwritten-digit-mnist-pytorch-977b5338e627\n",
    "\n",
    "Or any other tutorial you may find online:\n",
    "https://www.kaggle.com/zalando-research/fashionmnist/code"
   ]
  },
  {
   "cell_type": "code",
   "execution_count": 17,
   "id": "a60fad90",
   "metadata": {},
   "outputs": [],
   "source": [
    "import torch\n",
    "from torch import nn\n",
    "from torch.utils.data import DataLoader\n",
    "from torchvision import datasets\n",
    "from torchvision.transforms import ToTensor, Lambda, Compose\n",
    "import matplotlib.pyplot as plt\n",
    "%matplotlib inline"
   ]
  },
  {
   "cell_type": "code",
   "execution_count": 18,
   "id": "33c19eee",
   "metadata": {},
   "outputs": [],
   "source": [
    "training_data = datasets.FashionMNIST(\n",
    "    root=\"data\",\n",
    "    train=True,\n",
    "    download=True,\n",
    "    transform=ToTensor()\n",
    ")\n",
    "\n",
    "test_data = datasets.FashionMNIST(\n",
    "    root=\"data\",\n",
    "    train=False,\n",
    "    download=True,\n",
    "    transform=ToTensor()\n",
    ")"
   ]
  },
  {
   "cell_type": "code",
   "execution_count": 19,
   "id": "605d1835",
   "metadata": {},
   "outputs": [
    {
     "data": {
      "image/png": "[encoded data removed]",
      "text/plain": [
       "<Figure size 432x288 with 1 Axes>"
      ]
     },
     "metadata": {
      "needs_background": "light"
     },
     "output_type": "display_data"
    }
   ],
   "source": [
    "# Lest read a random image from the dataset and draw it\n",
    "image, label = training_data[17]\n",
    "plt.imshow(image[0], \"gray\")\n",
    "plt.title(f\"Image of class: {label}\")\n",
    "plt.show()"
   ]
  },
  {
   "cell_type": "code",
   "execution_count": 20,
   "id": "f490ddd3",
   "metadata": {},
   "outputs": [
    {
     "data": {
      "text/plain": [
       "torch.Size([1, 28, 28])"
      ]
     },
     "execution_count": 20,
     "metadata": {},
     "output_type": "execute_result"
    }
   ],
   "source": [
    "# Lets check image shape\n",
    "image.shape"
   ]
  },
  {
   "cell_type": "code",
   "execution_count": 21,
   "id": "16f15225",
   "metadata": {},
   "outputs": [
    {
     "data": {
      "text/plain": [
       "['T-shirt/top',\n",
       " 'Trouser',\n",
       " 'Pullover',\n",
       " 'Dress',\n",
       " 'Coat',\n",
       " 'Sandal',\n",
       " 'Shirt',\n",
       " 'Sneaker',\n",
       " 'Bag',\n",
       " 'Ankle boot']"
      ]
     },
     "execution_count": 21,
     "metadata": {},
     "output_type": "execute_result"
    }
   ],
   "source": [
    "# Lets see all the classes available\n",
    "training_data.classes"
   ]
  },
  {
   "cell_type": "markdown",
   "id": "bf2a7f78",
   "metadata": {},
   "source": [
    "# Task 1:\n",
    "\n",
    "Create a DataLoader objects for train and test"
   ]
  },
  {
   "cell_type": "code",
   "execution_count": 22,
   "id": "97c9881c",
   "metadata": {},
   "outputs": [],
   "source": [
    "dataloader = DataLoader(training_data, batch_size=32, shuffle=True)\n",
    "test_loader = DataLoader(test_data, batch_size=1, shuffle=True)"
   ]
  },
  {
   "cell_type": "markdown",
   "id": "0695343f",
   "metadata": {},
   "source": [
    "# Task 2:\n",
    "\n",
    "Create a Neural Network"
   ]
  },
  {
   "cell_type": "code",
   "execution_count": 23,
   "id": "f9b3d73d",
   "metadata": {},
   "outputs": [],
   "source": [
    "class Network(nn.Module):\n",
    "  def __init__(self):\n",
    "        super().__init__()\n",
    "        self.normalize = nn.functional.normalize\n",
    "        self.fc1 = nn.Linear(28 * 28, 256)\n",
    "        self.fc2 = nn.Linear(256, 128)\n",
    "        self.fc4 = nn.Linear(128, 10)\n",
    "        self.relu = nn.functional.relu\n",
    "        self.softmax = nn.functional.softmax\n",
    "  def forward(self, x):\n",
    "    x = x.reshape(-1, 784)\n",
    "    x = self.relu(self.fc1(x))\n",
    "    x = self.relu(self.fc2(x))\n",
    "    # x = self.relu(self.fc3(x))\n",
    "    x = self.softmax(self.fc4(x), dim=1)\n",
    "    return x\n",
    "\n",
    "\n",
    "model = Network()"
   ]
  },
  {
   "cell_type": "markdown",
   "id": "e13d5117",
   "metadata": {},
   "source": [
    "# Task 3:\n",
    "\n",
    "Specify loss and optimizer"
   ]
  },
  {
   "cell_type": "code",
   "execution_count": 24,
   "id": "8cd11bf9",
   "metadata": {},
   "outputs": [],
   "source": [
    "loss_fn = nn.CrossEntropyLoss()\n",
    "optimizer = torch.optim.Adam(model.parameters(), lr=1e-3)\n",
    "#device = torch.device('cpu')"
   ]
  },
  {
   "cell_type": "markdown",
   "id": "605caa5b",
   "metadata": {},
   "source": [
    "# Task 3:\n",
    "\n",
    "Train model using for loop"
   ]
  },
  {
   "cell_type": "code",
   "execution_count": 26,
   "id": "a724b721",
   "metadata": {},
   "outputs": [
    {
     "name": "stdout",
     "output_type": "stream",
     "text": [
      "Passed epoch 1\n"
     ]
    }
   ],
   "source": [
    "for epoch in range(10):\n",
    "  for batch, (X, y) in enumerate(dataloader):\n",
    "      pred = model.forward(X)\n",
    "      loss = loss_fn(pred, y)\n",
    "      optimizer.zero_grad()\n",
    "      loss.backward()\n",
    "      optimizer.step()\n",
    "  if epoch % 10 == 0:\n",
    "    print(f\"Passed epoch {epoch + 1}\")"
   ]
  },
  {
   "cell_type": "markdown",
   "id": "72d61b00",
   "metadata": {},
   "source": [
    "# Task 4:\n",
    "\n",
    "Report accuracy from train set, and test set independently"
   ]
  },
  {
   "cell_type": "code",
   "execution_count": 27,
   "id": "d129cd18",
   "metadata": {},
   "outputs": [],
   "source": [
    "def accuracy(outputs, labels):\n",
    "    _, preds = torch.max(outputs, dim=1)\n",
    "    return torch.tensor(torch.sum(preds == labels).item() / len(preds))"
   ]
  },
  {
   "cell_type": "code",
   "execution_count": 28,
   "id": "826ea8ec",
   "metadata": {},
   "outputs": [],
   "source": [
    "def predict(model, dataloader):\n",
    "  all_preds = torch.tensor([])\n",
    "  true_vals = torch.tensor([])\n",
    "  with torch.no_grad():\n",
    "    for (X, y) in dataloader:\n",
    "      all_preds = torch.cat((all_preds, model.forward(X)), 0)\n",
    "      true_vals = torch.cat((true_vals, y), 0)\n",
    "  return all_preds, true_vals"
   ]
  },
  {
   "cell_type": "code",
   "execution_count": 29,
   "id": "c1910973",
   "metadata": {},
   "outputs": [],
   "source": [
    "preds_train, vals_train = predict(model, dataloader)\n",
    "preds_test, vals_test = predict(model, test_loader)"
   ]
  },
  {
   "cell_type": "code",
   "execution_count": 30,
   "id": "e99d60bb",
   "metadata": {},
   "outputs": [
    {
     "name": "stdout",
     "output_type": "stream",
     "text": [
      "Accuracy on a train set:\n",
      "tensor(0.8787)\n",
      "Accuracy on a test set\n",
      "tensor(0.8586)\n"
     ]
    }
   ],
   "source": [
    "acc_train = accuracy(preds_train, vals_train)\n",
    "acc_test = accuracy(preds_test, vals_test)\n",
    "print(\"Accuracy on a train set:\")\n",
    "print(acc_train)\n",
    "print(\"Accuracy on a test set\")\n",
    "print(acc_test)"
   ]
  },
  {
   "cell_type": "markdown",
   "id": "0bfcc3eb",
   "metadata": {},
   "source": [
    "# Task 5:\n",
    "\n",
    "Report confussion matrix for the test set\n",
    "\n",
    "Expected format:\n",
    "```\n",
    "array([[0., 0., 0., 0., 0., 0., 0., 0., 0., 0.],\n",
    "       [0., 0., 0., 0., 0., 0., 0., 0., 0., 0.],\n",
    "       [0., 0., 0., 0., 0., 0., 0., 0., 0., 0.],\n",
    "       [0., 0., 0., 0., 0., 0., 0., 0., 0., 0.],\n",
    "       [0., 0., 0., 0., 0., 0., 0., 0., 0., 0.],\n",
    "       [0., 0., 0., 0., 0., 0., 0., 0., 0., 0.],\n",
    "       [0., 0., 0., 0., 0., 0., 0., 0., 0., 0.],\n",
    "       [0., 0., 0., 0., 0., 0., 0., 0., 0., 0.],\n",
    "       [0., 0., 0., 0., 0., 0., 0., 0., 0., 0.],\n",
    "       [0., 0., 0., 0., 0., 0., 0., 0., 0., 0.]])\n",
    "```"
   ]
  },
  {
   "cell_type": "code",
   "execution_count": 32,
   "id": "b1beb09f",
   "metadata": {},
   "outputs": [
    {
     "name": "stdout",
     "output_type": "stream",
     "text": [
      "[[803  12  15  61   3   0  94   0  12   0]\n",
      " [  2 974   0  20   1   0   2   0   1   0]\n",
      " [  9  20 807  23  94   0  41   0   5   1]\n",
      " [ 15  23   5 918  14   1  18   0   6   0]\n",
      " [  0  14 135  77 715   0  51   0   8   0]\n",
      " [  0   0   0   1   0 919   0  41   2  37]\n",
      " [124  12 114  56  77   0 600   0  17   0]\n",
      " [  0   0   0   0   0  13   0 965   0  22]\n",
      " [  0  14   1   6   1   2   4   4 968   0]\n",
      " [  0   1   0   0   0   3   1  78   0 917]]\n"
     ]
    }
   ],
   "source": [
    "from sklearn.metrics import confusion_matrix\n",
    "_, preds = torch.max(preds_test, dim=1)\n",
    "conf_mat = confusion_matrix(vals_test.numpy(), preds.numpy())\n",
    "print(conf_mat)"
   ]
  },
  {
   "cell_type": "markdown",
   "id": "ba2a7f90",
   "metadata": {},
   "source": [
    "# Task 6 (optional):\n",
    "\n",
    "Train LogisticRegression and DecisionTree models on the same data\n",
    "Compare their performance to the NN"
   ]
  },
  {
   "cell_type": "code",
   "execution_count": 33,
   "id": "f009b458",
   "metadata": {},
   "outputs": [],
   "source": [
    "class LogisticRegression(nn.Module):\n",
    "     def __init__(self, input_dim, output_dim):\n",
    "      super(LogisticRegression, self).__init__()\n",
    "      self.linear = nn.Linear(input_dim, output_dim)\n",
    "     def forward(self, x):\n",
    "      x = x.reshape(-1, 784)\n",
    "      outputs = torch.sigmoid(self.linear(x))\n",
    "      return outputs"
   ]
  },
  {
   "cell_type": "code",
   "execution_count": 34,
   "id": "b256a0f4",
   "metadata": {},
   "outputs": [
    {
     "name": "stdout",
     "output_type": "stream",
     "text": [
      "Passed epoch 0\n",
      "Passed epoch 1\n",
      "Passed epoch 2\n",
      "Passed epoch 3\n",
      "Passed epoch 4\n",
      "Passed epoch 5\n",
      "Passed epoch 6\n",
      "Passed epoch 7\n",
      "Passed epoch 8\n",
      "Passed epoch 9\n"
     ]
    }
   ],
   "source": [
    "log_regression = LogisticRegression(784, 10)\n",
    "\n",
    "for epoch in range(10):\n",
    "  for batch, (X, y) in enumerate(dataloader):\n",
    "      #X, y = X.to(device), y.to(device)\n",
    "      \n",
    "      pred = log_regression.forward(X)\n",
    "      loss = loss_fn(pred, y)\n",
    "      \n",
    "      optimizer.zero_grad()\n",
    "      loss.backward()\n",
    "      optimizer.step()\n",
    "  print(f\"Passed epoch {epoch}\")"
   ]
  },
  {
   "cell_type": "code",
   "execution_count": 35,
   "id": "3f3c380e",
   "metadata": {},
   "outputs": [],
   "source": [
    "log_preds, _ = predict(log_regression, test_loader)"
   ]
  },
  {
   "cell_type": "code",
   "execution_count": 36,
   "id": "0591d1f6",
   "metadata": {},
   "outputs": [
    {
     "name": "stdout",
     "output_type": "stream",
     "text": [
      "Accuracy of logistic regression 0.10670000314712524\n"
     ]
    }
   ],
   "source": [
    "log_acc = accuracy(log_preds, vals_test)\n",
    "print(f\"Accuracy of logistic regression {log_acc}\")"
   ]
  },
  {
   "cell_type": "code",
   "execution_count": 37,
   "id": "05820764",
   "metadata": {},
   "outputs": [
    {
     "data": {
      "text/plain": [
       "DecisionTreeClassifier()"
      ]
     },
     "execution_count": 37,
     "metadata": {},
     "output_type": "execute_result"
    }
   ],
   "source": [
    "from sklearn.tree import DecisionTreeClassifier\n",
    "\n",
    "train_loader = DataLoader(training_data, batch_size=len(training_data))\n",
    "train_dataset_array = training_data.data.numpy()\n",
    "train_dataset_array = train_dataset_array.reshape(-1, 784)\n",
    "training_dataset_labels = training_data.targets.numpy()\n",
    "test_dataset_array = test_data.data.numpy()\n",
    "test_dataset_array = test_dataset_array.reshape(-1, 784)\n",
    "test_dataset_labels = test_data.targets.numpy()\n",
    "tree = DecisionTreeClassifier()\n",
    "tree.fit(train_dataset_array, training_dataset_labels)"
   ]
  },
  {
   "cell_type": "code",
   "execution_count": 38,
   "id": "c1edb6af",
   "metadata": {},
   "outputs": [
    {
     "name": "stdout",
     "output_type": "stream",
     "text": [
      "[9 6 1 ... 8 1 5]\n"
     ]
    }
   ],
   "source": [
    "tree_preds = tree.predict(test_dataset_array)\n",
    "\n",
    "print(tree_preds)"
   ]
  },
  {
   "cell_type": "code",
   "execution_count": 41,
   "id": "abfb35cd",
   "metadata": {},
   "outputs": [
    {
     "name": "stdout",
     "output_type": "stream",
     "text": [
      "0.792\n"
     ]
    }
   ],
   "source": [
    "tree_acc = (tree_preds == test_dataset_labels).sum() / len(tree_preds)\n",
    "print(tree_acc)"
   ]
  }
 ],
 "metadata": {
  "kernelspec": {
   "display_name": "Python 3 (ipykernel)",
   "language": "python",
   "name": "python3"
  },
  "language_info": {
   "codemirror_mode": {
    "name": "ipython",
    "version": 3
   },
   "file_extension": ".py",
   "mimetype": "text/x-python",
   "name": "python",
   "nbconvert_exporter": "python",
   "pygments_lexer": "ipython3",
   "version": "3.9.10"
  }
 },
 "nbformat": 4,
 "nbformat_minor": 5
}
