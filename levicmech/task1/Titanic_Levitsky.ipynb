{
  "cells": [
    {
      "cell_type": "markdown",
      "metadata": {
        "id": "view-in-github",
        "colab_type": "text"
      },
      "source": [
        "<a href=\"https://colab.research.google.com/github/levicmech/2022-knu-yolo/blob/Victor_Levitskymech/levicmech/task1/Titanic_Levitsky.ipynb\" target=\"_parent\"><img src=\"https://colab.research.google.com/assets/colab-badge.svg\" alt=\"Open In Colab\"/></a>"
      ]
    },
    {
      "cell_type": "markdown",
      "metadata": {
        "id": "MMAXD2Bg3fAl"
      },
      "source": [
        "### Kaggle Competition | Titanic Machine Learning from Disaster\n",
        "\n",
        ">The sinking of the RMS Titanic is one of the most infamous shipwrecks in history.  On April 15, 1912, during her maiden voyage, the Titanic sank after colliding with an iceberg, killing 1502 out of 2224 passengers and crew.  This sensational tragedy shocked the international community and led to better safety regulations for ships.\n",
        "\n",
        ">One of the reasons that the shipwreck led to such loss of life was that there were not enough lifeboats for the passengers and crew.  Although there was some element of luck involved in surviving the sinking, some groups of people were more likely to survive than others, such as women, children, and the upper-class.\n",
        "\n",
        ">In this contest, we ask you to complete the analysis of what sorts of people were likely to survive.  In particular, we ask you to apply the tools of machine learning to predict which passengers survived the tragedy.\n",
        "\n",
        ">This Kaggle Getting Started Competition provides an ideal starting place for people who may not have a lot of experience in data science and machine learning.\"\n",
        "\n",
        "From the competition [homepage](http://www.kaggle.com/c/titanic-gettingStarted).\n",
        "\n",
        "\n",
        "### Goal for this Notebook:\n",
        "Make a simple analysis of the Titanic disaster in Python using a full complement of PyData utilities.\n",
        "\n",
        "#### Required Libraries:\n",
        "* [NumPy](http://www.numpy.org/)\n",
        "* [IPython](http://ipython.org/)\n",
        "* [Pandas](http://pandas.pydata.org/)\n",
        "* [SciKit-Learn](http://scikit-learn.org/stable/)\n",
        "* [SciPy](http://www.scipy.org/)\n",
        "* [Matplotlib](http://matplotlib.org/)\n",
        "\n",
        "***The competition's website is located on [Kaggle.com](http://www.kaggle.com/c/titanic-gettingStarted).***"
      ]
    },
    {
      "cell_type": "code",
      "execution_count": null,
      "metadata": {
        "id": "fQey2NMy3fAw"
      },
      "outputs": [],
      "source": [
        "import matplotlib.pyplot as plt\n",
        "%matplotlib inline\n",
        "import numpy as np\n",
        "import pandas as pd\n",
        "import seaborn as sns\n",
        "from sklearn.preprocessing import OneHotEncoder\n",
        "from sklearn.preprocessing import StandardScaler\n",
        "from sklearn.svm import SVC\n",
        "from sklearn.linear_model import LogisticRegression\n",
        "from sklearn.ensemble import RandomForestClassifier\n",
        "\n"
      ]
    },
    {
      "cell_type": "markdown",
      "metadata": {
        "id": "bhp18NQo3fAy"
      },
      "source": [
        "### Data Handling\n",
        "#### Read data (training set) in using pandas:"
      ]
    },
    {
      "cell_type": "code",
      "execution_count": null,
      "metadata": {
        "id": "J5LILRd_8NO5"
      },
      "outputs": [],
      "source": [
        "dff = pd.read_csv('train.csv')\n"
      ]
    },
    {
      "cell_type": "markdown",
      "metadata": {
        "id": "n5eT1bfh3fA0"
      },
      "source": [
        "Show an overview of our data: "
      ]
    },
    {
      "cell_type": "code",
      "execution_count": null,
      "metadata": {
        "id": "YNTiYmrA3fA1",
        "outputId": "b2f60cb5-aa3b-443b-f977-aad2471fa7c0",
        "colab": {
          "base_uri": "https://localhost:8080/",
          "height": 165
        }
      },
      "outputs": [
        {
          "output_type": "error",
          "ename": "NameError",
          "evalue": "ignored",
          "traceback": [
            "\u001b[0;31m---------------------------------------------------------------------------\u001b[0m",
            "\u001b[0;31mNameError\u001b[0m                                 Traceback (most recent call last)",
            "\u001b[0;32m<ipython-input-1-00cf07b74dcd>\u001b[0m in \u001b[0;36m<module>\u001b[0;34m()\u001b[0m\n\u001b[0;32m----> 1\u001b[0;31m \u001b[0mdf\u001b[0m\u001b[0;34m\u001b[0m\u001b[0;34m\u001b[0m\u001b[0m\n\u001b[0m",
            "\u001b[0;31mNameError\u001b[0m: name 'df' is not defined"
          ]
        }
      ],
      "source": [
        "dff\n"
      ]
    },
    {
      "cell_type": "markdown",
      "metadata": {
        "id": "ad27EQkf3fA3"
      },
      "source": [
        "### Learn more about the data:\n",
        "\n",
        "Above is a summary of data contained in a `Pandas` `DataFrame`. Think of a `DataFrame` as a Python's super charged version of the workflow in an Excel table. As you can see the summary holds quite a bit of information. First, it lets us know we have 891 observations, or passengers, to analyze here.\n",
        "\n",
        "Next it shows us all of the columns in `DataFrame`. Each column tells us something about each of our observations, like their `name`, `sex` or `age`. These colunms  are called a features of our dataset. You can think of the meaning of the words column and feature as interchangeable for this notebook. \n",
        "\n",
        "After each feature it lets us know how many values it contains. While most of our features have complete data on every observation, like the `survived` feature here: \n",
        "\n",
        "    survived    891  non-null values \n",
        "\n",
        "some are missing information, like the `age` feature: \n",
        "\n",
        "    age         714  non-null values \n",
        "\n",
        "These missing values are represented as `NaN`s.\n",
        "\n",
        "### Take care of missing values:\n",
        "The features `ticket` and `cabin` have many missing values and so can’t add much value to our analysis. To handle this we will drop them from the dataframe to preserve the integrity of our dataset. Drop waste features.\n",
        "\n",
        "Also remove NaN values from each remaining column / feature.\n",
        "\n",
        "Now we have a clean and tidy dataset that is ready for analysis. \n",
        "\n"
      ]
    },
    {
      "cell_type": "code",
      "execution_count": null,
      "metadata": {
        "id": "EMZbA3Aw3fA5"
      },
      "outputs": [],
      "source": [
        "# Remove ticket and cabin features\n",
        "# Don't want to write \"columns\" twice, so we'll use the method \"axis\"\n",
        "\n",
        "dff.drop(['Cabin'], ['Ticket'], axis=1, inplace=True)\n",
        "\n",
        "# Remove NaN values\n",
        "\n",
        "dff.dropna()"
      ]
    },
    {
      "cell_type": "code",
      "execution_count": null,
      "metadata": {
        "id": "AC9YPv9-bc72"
      },
      "outputs": [],
      "source": [
        "\n",
        "\n",
        "\n"
      ]
    },
    {
      "cell_type": "code",
      "execution_count": null,
      "metadata": {
        "id": "4i8syK1K8lZf"
      },
      "outputs": [],
      "source": [
        "# Don't touch this cell\n",
        "\n",
        "assert \"ticket\" not in dff.columns\n",
        "assert \"cabin\" not in dff.columns\n",
        "assert dff.isna().sum().sum() == 0"
      ]
    },
    {
      "cell_type": "markdown",
      "metadata": {
        "id": "jLG-xK5t3fA6"
      },
      "source": [
        "For a detailed look at how to use pandas for data analysis, the best resource is Wes Mckinney's [book](http://shop.oreilly.com/product/0636920023784.do). Additional interactive tutorials that cover all of the basics can be found [here](https://bitbucket.org/hrojas/learn-pandas) (they're free).  If you still need to be convinced about the power of pandas check out this wirlwhind [look](http://wesmckinney.com/blog/?p=647) at all that pandas can do. "
      ]
    },
    {
      "cell_type": "markdown",
      "metadata": {
        "id": "4p5-6okC3fA7"
      },
      "source": [
        "### Let's take a Look at our data graphically:\n",
        "\n",
        "Plot 5 graphs in this section:\n",
        "\n",
        "\n",
        "1.   Plots a bar graph of those who survived vs those who did not. \n",
        "2.   Plots a Scatterplot of Survived distribution by Age\n",
        "3.   Plots a bar graph of Class distribution\n",
        "4.   Plots kernel density estimate of the passengers age separately for all 3 classes\n",
        "5.   Plots a bar graph of passengers per boarding location\n",
        "\n"
      ]
    },
    {
      "cell_type": "code",
      "execution_count": 4,
      "metadata": {
        "id": "tMdpxz7J3fA8",
        "outputId": "69a1141b-8615-4eb1-f0db-b5c085bde92b",
        "colab": {
          "base_uri": "https://localhost:8080/",
          "height": 234
        }
      },
      "outputs": [
        {
          "output_type": "error",
          "ename": "NameError",
          "evalue": "ignored",
          "traceback": [
            "\u001b[0;31m---------------------------------------------------------------------------\u001b[0m",
            "\u001b[0;31mNameError\u001b[0m                                 Traceback (most recent call last)",
            "\u001b[0;32m<ipython-input-4-6481c7fb5702>\u001b[0m in \u001b[0;36m<module>\u001b[0;34m()\u001b[0m\n\u001b[1;32m      1\u001b[0m \u001b[0;31m# specifies the parameters of our graphs\u001b[0m\u001b[0;34m\u001b[0m\u001b[0;34m\u001b[0m\u001b[0;34m\u001b[0m\u001b[0m\n\u001b[0;32m----> 2\u001b[0;31m \u001b[0mfig\u001b[0m \u001b[0;34m=\u001b[0m \u001b[0mplt\u001b[0m\u001b[0;34m.\u001b[0m\u001b[0mfigure\u001b[0m\u001b[0;34m(\u001b[0m\u001b[0mfigsize\u001b[0m\u001b[0;34m=\u001b[0m\u001b[0;34m(\u001b[0m\u001b[0;36m18\u001b[0m\u001b[0;34m,\u001b[0m\u001b[0;36m7\u001b[0m\u001b[0;34m)\u001b[0m\u001b[0;34m,\u001b[0m \u001b[0mdpi\u001b[0m\u001b[0;34m=\u001b[0m\u001b[0;36m1200\u001b[0m\u001b[0;34m)\u001b[0m\u001b[0;34m\u001b[0m\u001b[0;34m\u001b[0m\u001b[0m\n\u001b[0m\u001b[1;32m      3\u001b[0m \u001b[0malpha\u001b[0m\u001b[0;34m=\u001b[0m\u001b[0malpha_scatterplot\u001b[0m \u001b[0;34m=\u001b[0m \u001b[0;36m0.2\u001b[0m\u001b[0;34m\u001b[0m\u001b[0;34m\u001b[0m\u001b[0m\n\u001b[1;32m      4\u001b[0m \u001b[0malpha_bar_chart\u001b[0m \u001b[0;34m=\u001b[0m \u001b[0;36m0.55\u001b[0m\u001b[0;34m\u001b[0m\u001b[0;34m\u001b[0m\u001b[0m\n\u001b[1;32m      5\u001b[0m \u001b[0;34m\u001b[0m\u001b[0m\n",
            "\u001b[0;31mNameError\u001b[0m: name 'plt' is not defined"
          ]
        }
      ],
      "source": [
        "# specifies the parameters of our graphs\n",
        "fig = plt.figure(figsize=(18,8), dpi=1200) \n",
        "alpha=alpha_scatterplot = 0.2 \n",
        "alpha_bar_chart = 0.55\n",
        "\n",
        "\n",
        "# plot many diffrent shaped graphs together \n",
        "ax1 = plt.subplot2grid((2,3),(0,0))\n",
        "\n",
        "\n",
        "# plots a graph, which describe number of survived\n",
        "# compare to number who didn't\n",
        "plt.title(\"Distribution of Survival, (1 = Survived)\")\n",
        "survived = [len(dff[(dff['Survived']==0)]), len(dff[(dff['Survived']==1)])]\n",
        "ax1.bar(['0', '1'], survived)\n",
        "\n",
        "\n",
        "# plots a graph, which describe percentage of survivors according to their age\n",
        "plt.subplot2grid((2,3),(0,1))\n",
        "plt.title(\"Survival by Age,  (100 = Everyone survived)\")\n",
        "passg_age = np.array(pd.unique(dff['Age']))\n",
        "distrib = np.array([100*len(df[(df['Age']==age) & (dff['Survived']==1)])/len(dff[dff['Age']==age]) for age in passg_age])\n",
        "plt.stem(passg_age, distrib)\n",
        "\n",
        "ax3 = plt.subplot2grid((2,3),(0,2))\n",
        "plt.title('Class Distribution')\n",
        "classes = np.array([1, 2, 3])\n",
        "classes_distrib = np.array([len(dff[(dff['Pclass'] == cl)]) for cl in classes])\n",
        "plt.bar(['First', 'Second', 'Third'], classes_distrib)\n",
        "\n",
        "\n",
        "# plots a kernel density estimate of the subset of the 1st class passangers's age\n",
        "plt.subplot2grid((2,3),(1,0), colspan=2)\n",
        "plt.title(\"Age Distribution within classes\")\n",
        "sns.kdeplot(data=dff, x='Age', hue=\"Pclass\", common_norm=False, palette='accent')\n",
        "\n",
        "\n",
        "ax5 = plt.subplot2grid((2,3),(1,2))\n",
        "plt.title('Passengers per boarding location')\n",
        "b_location = np.array(pd.unique(df['Embarked']))\n",
        "plt.bar(b_locations, df['Embarked'].value_counts())\n"
      ]
    },
    {
      "cell_type": "markdown",
      "metadata": {
        "id": "nRihWNpk3fA9"
      },
      "source": [
        "### Exploratory Visualization:\n",
        "\n",
        "The point of this competition is to predict if an individual will survive based on the features in the data like:\n",
        " \n",
        " * Traveling Class (called pclass in the data)\n",
        " * Sex \n",
        " * Age\n",
        " * Fare Price\n",
        "\n",
        "Let’s see if we can gain a better understanding of who survived and died. \n",
        "\n",
        "\n",
        "First plot a bar graph of those who Survived Vs. Those who did not.\n"
      ]
    },
    {
      "cell_type": "code",
      "execution_count": null,
      "metadata": {
        "id": "-QXHr82g3fA-",
        "outputId": "4bd2649b-e7b8-40f6-b9ef-bbdbb26b587e"
      },
      "outputs": [
        {
          "data": {
            "image/png": "[encoded data removed]",
            "text/plain": [
              "<Figure size 1296x432 with 1 Axes>"
            ]
          },
          "metadata": {
            "needs_background": "light"
          },
          "output_type": "display_data"
        }
      ],
      "source": [
        "# plot many diffrent shaped graphs together \n",
        "fig = plt.figure(figsize=(18,8)) \n",
        "ax1 = plt.subplot2grid((2,3),(0,0))\n",
        "ax1.bar(['Not survived', 'Survived'], dff.Survived.value_counts())"
      ]
    },
    {
      "cell_type": "markdown",
      "metadata": {
        "id": "-0wome_M3fA-"
      },
      "source": [
        "### Next tease more structure out of the data,\n",
        "### Break the previous graph down by gender\n"
      ]
    },
    {
      "cell_type": "code",
      "execution_count": null,
      "metadata": {
        "id": "35p8zc7s3fA_",
        "outputId": "bf26bb9b-9c1d-444e-f514-14647a54c484"
      },
      "outputs": [
        {
          "data": {
            "text/plain": [
              "Text(0.5, 1.0, 'Proportions of survival by gender')"
            ]
          },
          "execution_count": 7,
          "metadata": {},
          "output_type": "execute_result"
        },
        {
          "data": {
            "image/png": "[encoded data removed]",
            "text/plain": [
              "<Figure size 432x288 with 1 Axes>"
            ]
          },
          "metadata": {
            "needs_background": "light"
          },
          "output_type": "display_data"
        }
      ],
      "source": [
        "fig = plt.figure(figure=(18, 6))\n",
        "\n",
        "# # create a plot of two subsets, male and female, of the survived variable.\n",
        "# After that call value_counts() so it can be easily plotted as a bar graph. \n",
        "# you can use kind='barh' argument. It is just a horizontal bar graph\n",
        "\n",
        "sex = ['male', 'female']\n",
        "males, females = [len(dff[(dff['Sex']==i)]) for i in sex]\n",
        "\n",
        "survived_by_sex = dict()\n",
        "for i in sex:\n",
        "  survived_by_sex[i] = len(dff[(dff['Survived']==1) & (dff['Sex']==i)])\n",
        "\n",
        "barWidth = 1\n",
        "r = [0, 1]\n",
        "names = ['Males', 'Females']\n",
        "\n",
        "def plot_bars(bars1, bars2):\n",
        "    a = plt.bar(r, bars1, color='#7f6d5f', edgecolor='red', width=barWidth)\n",
        "    b = plt.bar(r, bars2, bottom=bars1, color='#557f2d', edgecolor='red', width=barWidth)\n",
        "    return [a, b]\n",
        "\n",
        "\n",
        "plt.subplot2grid((1,2), (0,0))\n",
        "\n",
        "bars1 = [surv_by_sex.get('male'), surv_by_sex.get('female')]\n",
        "bars2 = [males-bars1[0], females-bars1[1]]\n",
        "\n",
        "a, b = plot_bars(bars1, bars2)\n",
        "\n",
        "plt.xticks(r, names, fontweight='bold')\n",
        "plt.xlabel('Number of survivors by sex')\n",
        "plt.legend((a, b), ('survived', 'not survived'))\n",
        "\n",
        "\n",
        "plt.subplot2grid((1,2), (0,1))\n",
        "\n",
        "bars1 = [surv_by_sex.get('male')/males, surv_by_sex.get('female')/females]\n",
        "bars2 = [(males-surv_by_sex.get('male'))/males, (females-surv_by_sex.get('female'))/females]\n",
        "\n",
        "a, b = plot_bars(bars1, bars2)\n",
        "\n",
        "plt.xticks(r, names, fontweight='bold')\n",
        "plt.xlabel('Gender ratio')\n",
        "plt.legend((a, b), ('survived', 'not survived'))\n"
      ]
    },
    {
      "cell_type": "code",
      "execution_count": null,
      "metadata": {
        "id": "g7bhQzIjbc79",
        "outputId": "ca6fa94d-b363-4538-e3d7-8baf7b65d483"
      },
      "outputs": [
        {
          "data": {
            "text/plain": [
              "Sex     Survived\n",
              "female  1           195\n",
              "        0            64\n",
              "male    0           360\n",
              "        1            93\n",
              "Name: Survived, dtype: int64"
            ]
          },
          "execution_count": 8,
          "metadata": {},
          "output_type": "execute_result"
        }
      ],
      "source": [
        "train.groupby('Sex')['Survived'].value_counts()"
      ]
    },
    {
      "cell_type": "markdown",
      "metadata": {
        "id": "sBEcGFBI3fBA"
      },
      "source": [
        "Add your summaryabout recieved data for raw value counts and proportionally\n",
        "\n",
        "#### Try to go down even further:\n",
        "Can we capture more of the structure by using Pclass? Here try to bucket classes as lowest class or any of the high classes (classes 1 - 2). 3 is lowest class. Break it down by Gender and what Class they were traveling in.\n"
      ]
    },
    {
      "cell_type": "code",
      "execution_count": null,
      "metadata": {
        "id": "yfDvFNjZbc79"
      },
      "outputs": [],
      "source": [
        "# distribution of men and women in the third class\n",
        "third_class_by_sex = dict()\n",
        "for i in sex:\n",
        "    third_class_by_sex[i] = len(df[(df['Sex']==i) & (df['Pclass']==3)])\n",
        "    \n",
        "genders = [males, females]\n",
        "#print(genders)\n",
        "\n",
        "# distribution of men and women in the 1-2 classes\n",
        "high_classes_by_sex = dict()\n",
        "for i in range(2):\n",
        "    high_classes_by_sex[sex[i]] = genders[i] - third_class_by_sex.get(sex[i])\n",
        "#print(third_class_by_sex, high_classes_by_sex)\n",
        "\n",
        "# the number of survivors in the third class by sex\n",
        "surv_third_class = dict()\n",
        "for i in sex:\n",
        "    surv_third_class[i] = len(df[(df['Survived']==1) & (df['Pclass']==3) & (df['Sex']==i)])\n",
        "#print(surv_third_class)\n",
        "\n",
        "# the number of survivors in the 1-2 classes by sex\n",
        "surv_high_classes = dict()\n",
        "for i in sex:\n",
        "    surv_high_classes[i] = surv_by_sex.get(i) - surv_third_class.get(i)\n",
        "#print(surv_high_classes)\n",
        "\n",
        "\n",
        "fig = plt.figure(figsize=(10, 10))\n",
        "names = ['Males','Females']\n",
        "\n",
        "# Number of male and female survivors by class\n",
        "plt.subplot2grid((2,2), (0, 0), colspan=2)\n",
        "\n",
        "\n",
        "bars1 = [surv_third_class.get('male'), surv_third_class.get('female')]\n",
        "bars2 = [surv_high_classes.get('male'), surv_high_classes.get('female')]\n",
        "\n",
        "a, b = plot_bars(bars1, bars2)\n",
        "\n",
        "plt.title('General statistics of survivors by sex')\n",
        "plt.xticks(r, names, fontweight='bold')\n",
        "plt.xlabel('Number of survivors by class and sex')\n",
        "plt.legend((a, b), ('high classes', 'third class'))\n",
        "\n",
        "\n",
        "# Number of male and female survivors in the third class\n",
        "plt.subplot2grid((2,2), (1, 0))\n",
        "\n",
        "bars1 = [surv_third_class.get('male'), surv_third_class.get('female')]\n",
        "bars2 = [third_class_by_sex.get('male')-surv_third_class.get('male'),third_class_by_sex.get('female')-surv_third_class.get('female')]\n",
        "\n",
        "a, b = plot_bars(bars1, bars2)\n",
        "\n",
        "plt.title('Third class statistics')\n",
        "plt.xticks(r, names, fontweight='bold')\n",
        "plt.xlabel('Number of survivors by sex in third class')\n",
        "plt.legend((a, b), ('survived', 'not survived'))\n",
        "\n",
        "\n",
        "# Number of male and female survivors in the high classes\n",
        "plt.subplot2grid((2,2), (1, 1))\n",
        "bars1 = [surv_high_classes.get('male'), surv_high_classes.get('female')]\n",
        "bars2 = [high_classes_by_sex.get('male')-surv_high_classes.get('male'),high_classes_by_sex.get('female')-surv_high_classes.get('female')]\n",
        "\n",
        "a, b = plot_bars(bars1, bars2)\n",
        "\n",
        "plt.title('High classes statistics')\n",
        "plt.xticks(r, names, fontweight='bold')\n",
        "plt.xlabel('Number of survivors by sex in high classes')\n",
        "plt.legend((a, b), ('survived', 'not survived'))"
      ]
    },
    {
      "cell_type": "code",
      "execution_count": null,
      "metadata": {
        "id": "r4jXC0wM3fBA",
        "outputId": "cfa6dfba-a103-4867-e85b-3bc12e2544ef"
      },
      "outputs": [
        {
          "data": {
            "text/plain": [
              "<AxesSubplot:title={'center':'3 class,  (1 = Survived)'}, xlabel='Survived', ylabel='count'>"
            ]
          },
          "execution_count": 10,
          "metadata": {},
          "output_type": "execute_result"
        },
        {
          "data": {
            "image/png": "[encoded data removed]",
            "text/plain": [
              "<Figure size 1872x720 with 1 Axes>"
            ]
          },
          "metadata": {
            "needs_background": "light"
          },
          "output_type": "display_data"
        },
        {
          "data": {
            "image/png": "[encoded data removed]",
            "text/plain": [
              "<Figure size 1872x720 with 1 Axes>"
            ]
          },
          "metadata": {
            "needs_background": "light"
          },
          "output_type": "display_data"
        },
        {
          "data": {
            "image/png": "[encoded data removed]",
            "text/plain": [
              "<Figure size 1872x720 with 1 Axes>"
            ]
          },
          "metadata": {
            "needs_background": "light"
          },
          "output_type": "display_data"
        }
      ],
      "source": [
        ""
      ]
    },
    {
      "cell_type": "markdown",
      "metadata": {
        "id": "yEZPJBNqFWfq"
      },
      "source": [
        "Try to get a conclusions of the recieved data"
      ]
    },
    {
      "cell_type": "markdown",
      "metadata": {
        "id": "Da0ZAEJebc7-"
      },
      "source": [
        "# We can see that more women survived than men. I think that this was due to the fact that they were evacuated first.  Also, preference was given to 1-2st class "
      ]
    },
    {
      "cell_type": "markdown",
      "metadata": {
        "id": "XrSaN1KQ3fn1"
      },
      "source": [
        "Type Markdown and LaTeX: 𝛼2"
      ]
    },
    {
      "cell_type": "code",
      "execution_count": null,
      "metadata": {
        "id": "CjdgVG2_3fBC"
      },
      "outputs": [],
      "source": [
        ""
      ]
    },
    {
      "cell_type": "markdown",
      "metadata": {
        "id": "yuV-b-Jvt1PI"
      },
      "source": [
        "## Model train and evaluation\n",
        "\n",
        "\n",
        "For all model at the end, additionaly generate:\n",
        "Normalized Confusion matrix as:\n",
        "```\n",
        "\t\t                 Predicted\n",
        "                     Survive\tNon-Survive\n",
        "Actual    Survive        0.7       0.3\n",
        "          Non-Survive    0.2       0.8\n",
        "```\n",
        "And metrics:\n",
        "```\n",
        "          Metrics\n",
        "Recall    0.2232\n",
        "Precision 0.0597\n",
        "Accuracy  0.2100\n",
        "F1 score  0.0398\n",
        "```"
      ]
    },
    {
      "cell_type": "markdown",
      "metadata": {
        "id": "7MLXksFt3fBD"
      },
      "source": [
        "## Supervised Machine Learning\n",
        "#### Logistic Regression:\n",
        "\n",
        "\n",
        "\n",
        "Task is to predict a binary outcome. That is, it wants to know whether some will die, (represented as a 0), or survive, (represented as 1). A good place to start is to calculate the probability that an individual observation, or person, is likely to be a 0 or 1. That way we would know the chance that someone survives, and could start making somewhat informed predictions. If we did, we'd get results like this:: \n",
        "\n",
        "![pred](https://raw.github.com/agconti/kaggle-titanic/master/images/calc_prob.png) \n",
        "\n",
        "(*Y axis is the probability that someone survives, X axis is the passenger’s number from 1 to 891.*)\n",
        "\n",
        "While that information is useful it doesn’t let us know whether someone ended up alive or dead. It just lets us know the chance that they will survive or die. We still need to translate these probabilities into the binary decision we’re looking for. But how? We could arbitrarily say that our survival cutoff is anyone with a probability of survival over 50%. In fact, this tactic would actually perform pretty well for our data and would allow you to make decently accurate predictions. Graphically it would look something like this:\n",
        "\n",
        "![predwline](https://raw.github.com/agconti/kaggle-titanic/master/images/calc_prob_wline.png)\n",
        "\n",
        "What are the odds that setting that cutoff at 50% works? Maybe 20% or 80% would work better. Clearly we need a more exact way to make that cutoff. What can save the day? In steps the **Logistic Regression**. \n",
        "\n",
        "A logistic regression follows the all steps we took above but mathematically calculates the cutoff, or decision boundary (as stats nerds call it), for you. This way it can figure out the best cut off to choose, perhaps 50% or 51.84%, that most accurately represents the training data.\n",
        "\n",
        "Below, write down the process of creating a Logitist regression model with `LogisticRegression`, training it on the data, and examining its performance."
      ]
    },
    {
      "cell_type": "code",
      "execution_count": null,
      "metadata": {
        "id": "ZazHkW1Ubc8A",
        "outputId": "ea553529-206b-429f-decb-70fecde3422a"
      },
      "outputs": [
        {
          "name": "stderr",
          "output_type": "stream",
          "text": [
            "c:\\users\\пользователь\\appdata\\local\\programs\\python\\python39\\lib\\site-packages\\pandas\\core\\series.py:4433: SettingWithCopyWarning: \n",
            "A value is trying to be set on a copy of a slice from a DataFrame\n",
            "\n",
            "See the caveats in the documentation: https://pandas.pydata.org/pandas-docs/stable/user_guide/indexing.html#returning-a-view-versus-a-copy\n",
            "  return super().fillna(\n"
          ]
        }
      ],
      "source": [
        "# instantiate and fit our model to the training data\n",
        "\n",
        "models = list()\n",
        "\n",
        "def pr_data(data):\n",
        "    data['Sex'] = data.Sex.apply(lambda x: 0 if x==\"female\" else 1)\n",
        "    data['Embarked_C'] = data.Embarked.apply(lambda x: 1 if x=='C' else 0)\n",
        "    data['Embarked_Q'] = data.Embarked.apply(lambda x: 1 if x=='Q' else 0)\n",
        "    data['Embarked_S'] = data.Embarked.apply(lambda x: 1 if x=='S' else 0)\n",
        "    return data\n",
        "\n",
        "df = pr_data(df)\n",
        "\n",
        "test_df = pd.read_csv('test.csv')\n",
        "gs_df = pd.read_csv('gender_submission.csv')\n",
        "\n",
        "test_titanic = pd.concat([gs_df, test_df], axis = 1)\n",
        "test_titanic = test_titanic.drop(['Ticket', 'Cabin', 'PassengerId'], axis=1)\n",
        "test_titanic = test_titanic.dropna()\n",
        "test_titanic = pr_data(test_titanic)\n",
        "\n",
        "features = ['Pclass', 'Sex', 'Age', 'SibSp', 'Parch', 'Fare', 'Embarked_C', 'Embarked_Q', 'Embarked_S']\n",
        "X_train = df[features]\n",
        "X_test = test_titanic[features]\n",
        "y_train = df['Survived']\n",
        "y_test = test_titanic['Survived']\n",
        "\n",
        "logreg = LogisticRegression()\n",
        "logreg.fit(X_train, y_train)\n",
        "y_pred = logreg.predict(X_test)\n",
        "models.append(logreg)\n",
        "print(classification_report(y_test, y_pred))"
      ]
    },
    {
      "cell_type": "code",
      "execution_count": null,
      "metadata": {
        "id": "1f-5bp6Mbc8A"
      },
      "outputs": [],
      "source": [
        "# Plot Predictions Vs Actual\n",
        "def conf_matrix(y_test, y_pred):\n",
        "    NCM = confusion_matrix(y_test, y_pred, normalize='true', labels = [1,0])\n",
        "    print('Normalized Confusion matrix \\n')\n",
        "    print(round(NCM[0][0], 2), ' \\t', round(NCM[0][1], 2))\n",
        "    print(round(NCM[1][0], 2), ' \\t', round(NCM[1][1], 2))\n",
        "\n",
        "conf_matrix(y_test, y_pred)"
      ]
    },
    {
      "cell_type": "markdown",
      "metadata": {
        "id": "5DKw49Rr3fBL"
      },
      "source": [
        "### Support Vector Machine (SVM)\n",
        "\n",
        "\n",
        "The logit model showed exactly where to draw our decision boundary or our 'survival cut off'. A linear line is okay, but can prediction be better? Perhaps a more complex decision boundary like a wave, circle, or maybe some sort of strange polygon would describe the variance observed in our sample better than a line.\n",
        "\n",
        "Below implement a SVM model based on `sklearn.svm.SVC` and examining the results after the SVM transforms an equation into three different mathematical plains. The first is linear, and is similar to our logic model. Next is an exponential, polynomial, transformation and finally a blank transformation.\n"
      ]
    },
    {
      "cell_type": "code",
      "execution_count": null,
      "metadata": {
        "id": "buy4Jl38bc8D"
      },
      "outputs": [],
      "source": [
        "svm = SVC(probability=True)\n",
        "\n",
        "svm.fit(X_train, y_train)\n",
        "y_pred = svm.predict(X_test)\n",
        "models.append(svm)\n",
        "print(classification_report(y_test, y_pred))\n",
        "conf_matrix(y_test, y_pred)"
      ]
    },
    {
      "cell_type": "markdown",
      "metadata": {
        "id": "BwJyqyhF3fBN"
      },
      "source": [
        "### Random Foreфst\n",
        "\n",
        "the Random Forest technique is a form of non-parametric modeling that does away with all those equations created above, and uses raw computing power and a clever statistical observation to tease the structure out of the data. \n",
        "\n",
        "**How do they work?** A random forest algorithm randomly generates many extremely simple models to explain the variance observed in random subsections of our data. These models are like appraisal guesses. They are all awful individually. Really awful. But once they are averaged, they can be powerful predictive tools. The averaging step is the secret sauce. While the vast majority of those models were extremely poor; they were all as bad as each other on average. So when their predictions are averaged together, the bad ones average their effect on our model out to zero. The thing that remains, *if anything*, is one or a handful of those models have stumbled upon the true structure of the data.\n",
        "\n",
        "Below implement your model of random forest with `RandomForestClassifier`, generating predictions form the resulting model, and then scoring the results."
      ]
    },
    {
      "cell_type": "code",
      "execution_count": null,
      "metadata": {
        "id": "ekx9kVAOTOKk"
      },
      "outputs": [],
      "source": [
        ""
      ]
    },
    {
      "cell_type": "code",
      "execution_count": null,
      "metadata": {
        "id": "Iq1m2Dwtbc8F"
      },
      "outputs": [],
      "source": [
        "rand_forest = RandomForestClassifier()\n",
        "\n",
        "rand_forest.fit(X_train, y_train)\n",
        "y_pred = rand_forest.predict(X_test)\n",
        "models.append(rand_forest)\n",
        "print(classification_report(y_test, y_pred))\n",
        "conf_matrix(y_test, y_pred)"
      ]
    },
    {
      "cell_type": "markdown",
      "metadata": {
        "id": "NT6kO9UQsQit"
      },
      "source": [
        "# Additional tasks\n",
        "\n",
        "*   Plot ROC curve for implemented models\n",
        "*   Implement prediction using another model, such as the k-nearest neighbors algorithm, decision tree classifier, gaussian naive bayes, neural network etc. Or maybe try to use sklearn.model_selection.GridSearchCV based on already implemented models.\n",
        "\n",
        "\n",
        "\n"
      ]
    },
    {
      "cell_type": "code",
      "execution_count": null,
      "metadata": {
        "id": "k0lqLw0lbc8F"
      },
      "outputs": [],
      "source": [
        "from sklearn.tree import DecisionTreeClassifier\n",
        "\n",
        "classifier = DecisionTreeClassifier(random_state=0)\n",
        "classifier.fit(X_train, y_train)\n",
        "y_pred = classifier.predict(X_test)\n",
        "models.append(classifier)\n",
        "print(classification_report(y_test, y_pred))\n",
        "conf_matrix(y_test, y_pred)"
      ]
    },
    {
      "cell_type": "code",
      "execution_count": null,
      "metadata": {
        "id": "zkijoNz9bc8F"
      },
      "outputs": [],
      "source": [
        "from sklearn.naive_bayes import GaussianNB\n",
        "\n",
        "nb = GaussianNB()\n",
        "nb.fit(X_train, y_train)\n",
        "y_pred = nb.predict(X_test)\n",
        "models.append(nb)\n",
        "print(classification_report(y_test, y_pred))\n",
        "conf_matrix(y_test, y_pred)"
      ]
    },
    {
      "cell_type": "code",
      "execution_count": null,
      "metadata": {
        "id": "nIzX4V0Nbc8G",
        "outputId": "31c3d013-0cb5-420b-8fad-54a7af72bee8"
      },
      "outputs": [
        {
          "data": {
            "image/png": "[encoded data removed]",
            "text/plain": [
              "<Figure size 1296x720 with 1 Axes>"
            ]
          },
          "metadata": {
            "needs_background": "light"
          },
          "output_type": "display_data"
        }
      ],
      "source": [
        "from sklearn.metrics import roc_curve, roc_auc_score\n",
        "from sklearn import metrics\n",
        "\n",
        "fig = plt.figure(figsize=(10, 10))\n",
        "\n",
        "for model in models:\n",
        "    y_pred_proba = model.predict_proba(X_test)[::,1]\n",
        "    fpr, tpr, _ = metrics.roc_curve(y_test,  y_pred_proba)\n",
        "    auc = metrics.roc_auc_score(y_test, y_pred_proba)\n",
        "    plt.plot(fpr, tpr, label = type(model).__name__+', auc='+str(auc.round(2)))\n",
        "    plt.legend(loc=4)\n",
        "\n",
        "plt.plot([0,1], [0,1], color='yellow', linestyle='--')    \n",
        "plt.title('ROC curves', fontweight='bold', fontsize=10)\n",
        "plt.xlabel('Flase Positive Rate', fontsize=8)\n",
        "plt.ylabel('True Positive Rate', fontsize=8)\n",
        "plt.show()"
      ]
    },
    {
      "cell_type": "code",
      "source": [
        "from google.colab import drive\n",
        "drive.mount('/content/drive')"
      ],
      "metadata": {
        "colab": {
          "base_uri": "https://localhost:8080/"
        },
        "id": "Ex1qw4XC8hS9",
        "outputId": "fe8e5544-6a2e-4558-f9ca-3c7796dd2b64"
      },
      "execution_count": 1,
      "outputs": [
        {
          "output_type": "stream",
          "name": "stdout",
          "text": [
            "Mounted at /content/drive\n"
          ]
        }
      ]
    },
    {
      "cell_type": "code",
      "execution_count": null,
      "metadata": {
        "id": "pBx7PCVJbc8G"
      },
      "outputs": [],
      "source": [
        ""
      ]
    },
    {
      "cell_type": "code",
      "execution_count": null,
      "metadata": {
        "id": "VKeh3j8rbc8G"
      },
      "outputs": [],
      "source": [
        ""
      ]
    },
    {
      "cell_type": "code",
      "execution_count": null,
      "metadata": {
        "id": "ugVtaIP8bc8G"
      },
      "outputs": [],
      "source": [
        ""
      ]
    }
  ],
  "metadata": {
    "colab": {
      "collapsed_sections": [],
      "name": "Копія записника \"Titanic_template.ipynb\"",
      "provenance": [],
      "include_colab_link": true
    },
    "kernelspec": {
      "display_name": "Python 3",
      "language": "python",
      "name": "python3"
    },
    "language_info": {
      "codemirror_mode": {
        "name": "ipython",
        "version": 3
      },
      "file_extension": ".py",
      "mimetype": "text/x-python",
      "name": "python",
      "nbconvert_exporter": "python",
      "pygments_lexer": "ipython3",
      "version": "3.9.1"
    }
  },
  "nbformat": 4,
  "nbformat_minor": 0
}